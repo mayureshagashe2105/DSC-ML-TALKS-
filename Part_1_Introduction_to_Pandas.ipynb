{
  "nbformat": 4,
  "nbformat_minor": 0,
  "metadata": {
    "colab": {
      "name": "Part_1_Introduction_to_Pandas.ipynb",
      "provenance": [],
      "collapsed_sections": [],
      "toc_visible": true
    },
    "kernelspec": {
      "name": "python3",
      "display_name": "Python 3"
    }
  },
  "cells": [
    {
      "cell_type": "markdown",
      "metadata": {
        "id": "cpM5bsk0vSv3"
      },
      "source": [
        "# **Pandas**\n",
        "\n",
        "Let's get started with pandas"
      ]
    },
    {
      "cell_type": "markdown",
      "metadata": {
        "id": "XhcWKvrH1Rlc"
      },
      "source": [
        "### Installing pandas"
      ]
    },
    {
      "cell_type": "code",
      "metadata": {
        "id": "bzpApZgK1Rlc",
        "outputId": "39e9e9c6-ac49-419b-ab23-b26977dc95e5",
        "colab": {
          "base_uri": "https://localhost:8080/"
        }
      },
      "source": [
        "!pip install pandas"
      ],
      "execution_count": 1,
      "outputs": [
        {
          "output_type": "stream",
          "text": [
            "Requirement already satisfied: pandas in /usr/local/lib/python3.6/dist-packages (1.1.5)\n",
            "Requirement already satisfied: pytz>=2017.2 in /usr/local/lib/python3.6/dist-packages (from pandas) (2018.9)\n",
            "Requirement already satisfied: python-dateutil>=2.7.3 in /usr/local/lib/python3.6/dist-packages (from pandas) (2.8.1)\n",
            "Requirement already satisfied: numpy>=1.15.4 in /usr/local/lib/python3.6/dist-packages (from pandas) (1.19.5)\n",
            "Requirement already satisfied: six>=1.5 in /usr/local/lib/python3.6/dist-packages (from python-dateutil>=2.7.3->pandas) (1.15.0)\n"
          ],
          "name": "stdout"
        }
      ]
    },
    {
      "cell_type": "markdown",
      "metadata": {
        "id": "nV7UUGhcvXfp"
      },
      "source": [
        "##Importing dependencies"
      ]
    },
    {
      "cell_type": "code",
      "metadata": {
        "id": "07uCEliGvN6Y",
        "cellView": "form"
      },
      "source": [
        "#@title EXERCISE: Importing pandas\n",
        "import pandas as pd\n",
        "import numpy as np\n",
        "\n",
        "import warnings\n",
        "warnings.filterwarnings(\"ignore\")"
      ],
      "execution_count": 2,
      "outputs": []
    },
    {
      "cell_type": "code",
      "metadata": {
        "id": "fcnuxnRlu2fj"
      },
      "source": [
        "import pandas as pd\r\n"
      ],
      "execution_count": 4,
      "outputs": []
    },
    {
      "cell_type": "markdown",
      "metadata": {
        "id": "9hQvF_XCwH9p"
      },
      "source": [
        "# **Pandas Series**\n",
        "\n",
        "\n",
        "---\n",
        "Pandas series works like a one-dimensional array and it can hold any type of data such as int, float, string,etc. You can create a series using an array, list or even dictionary.\n",
        "* Command - pd.Series()\n"
      ]
    },
    {
      "cell_type": "code",
      "metadata": {
        "id": "TetpbDpJvazd"
      },
      "source": [
        "labels = ['a','b','c']\n",
        "my_data = [10,20,30] \n",
        "arr = np.array(my_data) #our array\n",
        "dic = {'a':10 , 'b':20, 'c':30} #our dictionary"
      ],
      "execution_count": 6,
      "outputs": []
    },
    {
      "cell_type": "code",
      "metadata": {
        "id": "0zJlZ6gzwbTL",
        "outputId": "b948307e-dc7d-4707-dbcb-826914b1b3d9",
        "colab": {
          "base_uri": "https://localhost:8080/"
        }
      },
      "source": [
        "pd.Series(arr,labels) #by using our array"
      ],
      "execution_count": 7,
      "outputs": [
        {
          "output_type": "execute_result",
          "data": {
            "text/plain": [
              "a    10\n",
              "b    20\n",
              "c    30\n",
              "dtype: int64"
            ]
          },
          "metadata": {
            "tags": []
          },
          "execution_count": 7
        }
      ]
    },
    {
      "cell_type": "code",
      "metadata": {
        "id": "ZWG5tCFlwnFp",
        "outputId": "74ed890c-efd8-46df-8c67-fed76ca6ffe4",
        "colab": {
          "base_uri": "https://localhost:8080/"
        }
      },
      "source": [
        "ser = pd.Series(dic) #by using our dictionary\n",
        "print(ser)"
      ],
      "execution_count": 8,
      "outputs": [
        {
          "output_type": "stream",
          "text": [
            "a    10\n",
            "b    20\n",
            "c    30\n",
            "dtype: int64\n"
          ],
          "name": "stdout"
        }
      ]
    },
    {
      "cell_type": "markdown",
      "metadata": {
        "id": "WgbK50FXwweL"
      },
      "source": [
        "To retrieve any value from a Pandas Series we just need to pass the index of the value that we wish to fetch"
      ]
    },
    {
      "cell_type": "code",
      "metadata": {
        "id": "eLuNjWFKwq09",
        "outputId": "a8aac64b-3d55-4be0-8cca-f355b08327f6",
        "colab": {
          "base_uri": "https://localhost:8080/"
        }
      },
      "source": [
        "print(ser['a']) #we used the index a which has the value of 10"
      ],
      "execution_count": 9,
      "outputs": [
        {
          "output_type": "stream",
          "text": [
            "10\n"
          ],
          "name": "stdout"
        }
      ]
    },
    {
      "cell_type": "markdown",
      "metadata": {
        "id": "Y_9u4GaV1Rlh"
      },
      "source": [
        "### EXERCISE: Generate the same `Series` using only the initial `lists` and extract the data at label `c`."
      ]
    },
    {
      "cell_type": "code",
      "metadata": {
        "id": "ZKu1fPOA1Rlh",
        "outputId": "249aa87a-ff30-4db8-d543-63d49a49560b",
        "colab": {
          "base_uri": "https://localhost:8080/"
        }
      },
      "source": [
        "# write code in the line below\r\n",
        "s = pd.Series(my_data, labels)\r\n",
        "s['c']"
      ],
      "execution_count": 11,
      "outputs": [
        {
          "output_type": "execute_result",
          "data": {
            "text/plain": [
              "30"
            ]
          },
          "metadata": {
            "tags": []
          },
          "execution_count": 11
        }
      ]
    },
    {
      "cell_type": "markdown",
      "metadata": {
        "id": "5GQUldhPxCOa"
      },
      "source": [
        "We can also add two Pandas series in the following way"
      ]
    },
    {
      "cell_type": "code",
      "metadata": {
        "id": "QWCXaz10w6yj",
        "outputId": "a45cc13d-2ee2-462d-dc28-bac22803a0b9",
        "colab": {
          "base_uri": "https://localhost:8080/"
        }
      },
      "source": [
        "ser1 = pd.Series([1,2,3,4],['a','b','c','d'])\n",
        "ser2 = pd.Series([1,2,5,4],['a','b','e','d'])\n",
        "ser3 = ser1 + ser2\n",
        "print(ser3)"
      ],
      "execution_count": 16,
      "outputs": [
        {
          "output_type": "stream",
          "text": [
            "a    2.0\n",
            "b    4.0\n",
            "c    NaN\n",
            "d    8.0\n",
            "e    NaN\n",
            "dtype: float64\n"
          ],
          "name": "stdout"
        }
      ]
    },
    {
      "cell_type": "markdown",
      "metadata": {
        "id": "gNRAqNFaxPny"
      },
      "source": [
        "We never gave any NaN values in the series but in the resultant series we have  NaN values. We can see we have Nan values for index 'c' and 'e' and that is because in the first series the values of 'c' is 3 and value of 'e' is 5, now as these two index dont match with any other index in the series hence by default their values are given as NaN."
      ]
    },
    {
      "cell_type": "markdown",
      "metadata": {
        "id": "yUfrydbj5Ju-"
      },
      "source": [
        "# **Data Frames**\n",
        "\n",
        "---\n",
        "It's a two dimensional structure that stores the data in tabular format which can be changed and edited as per user's requirements. Just like Series we can make a Data frame as well using array, lists and dictionaries.\n",
        "* Command - pd.DataFrame(dimesnion,rows,columns)"
      ]
    },
    {
      "cell_type": "code",
      "metadata": {
        "id": "sXuD7IvrxKEP",
        "outputId": "fd8b7ff8-c890-4904-a4d8-4516e0a50617",
        "colab": {
          "base_uri": "https://localhost:8080/",
          "height": 166
        }
      },
      "source": [
        "from numpy.random import randn\n",
        "df = pd.DataFrame(randn(4,4),['A','B','C','D'],['W','X','Y','Z'])\n",
        "df"
      ],
      "execution_count": 32,
      "outputs": [
        {
          "output_type": "execute_result",
          "data": {
            "text/html": [
              "<div>\n",
              "<style scoped>\n",
              "    .dataframe tbody tr th:only-of-type {\n",
              "        vertical-align: middle;\n",
              "    }\n",
              "\n",
              "    .dataframe tbody tr th {\n",
              "        vertical-align: top;\n",
              "    }\n",
              "\n",
              "    .dataframe thead th {\n",
              "        text-align: right;\n",
              "    }\n",
              "</style>\n",
              "<table border=\"1\" class=\"dataframe\">\n",
              "  <thead>\n",
              "    <tr style=\"text-align: right;\">\n",
              "      <th></th>\n",
              "      <th>W</th>\n",
              "      <th>X</th>\n",
              "      <th>Y</th>\n",
              "      <th>Z</th>\n",
              "    </tr>\n",
              "  </thead>\n",
              "  <tbody>\n",
              "    <tr>\n",
              "      <th>A</th>\n",
              "      <td>0.723056</td>\n",
              "      <td>-0.445546</td>\n",
              "      <td>-0.652065</td>\n",
              "      <td>-0.030567</td>\n",
              "    </tr>\n",
              "    <tr>\n",
              "      <th>B</th>\n",
              "      <td>0.844453</td>\n",
              "      <td>0.208513</td>\n",
              "      <td>-0.176878</td>\n",
              "      <td>0.556395</td>\n",
              "    </tr>\n",
              "    <tr>\n",
              "      <th>C</th>\n",
              "      <td>-1.193186</td>\n",
              "      <td>1.306642</td>\n",
              "      <td>0.844274</td>\n",
              "      <td>-1.591508</td>\n",
              "    </tr>\n",
              "    <tr>\n",
              "      <th>D</th>\n",
              "      <td>-0.229251</td>\n",
              "      <td>-0.272999</td>\n",
              "      <td>-3.005975</td>\n",
              "      <td>-0.972506</td>\n",
              "    </tr>\n",
              "  </tbody>\n",
              "</table>\n",
              "</div>"
            ],
            "text/plain": [
              "          W         X         Y         Z\n",
              "A  0.723056 -0.445546 -0.652065 -0.030567\n",
              "B  0.844453  0.208513 -0.176878  0.556395\n",
              "C -1.193186  1.306642  0.844274 -1.591508\n",
              "D -0.229251 -0.272999 -3.005975 -0.972506"
            ]
          },
          "metadata": {
            "tags": []
          },
          "execution_count": 32
        }
      ]
    },
    {
      "cell_type": "markdown",
      "metadata": {
        "id": "HnxYShk5_kUK"
      },
      "source": [
        "As we can see we have our very own Dataframe. We used A,B,C,D as the rows and W,X,Y,Z as our columns. The random method just generates random number to fill up our DataFrame. We also mentioned dimensions for our DataFrame i.e. 4x4 as we mentioned 4 rows and 4 columns. We can also grab rows and columns and the information in these rows and column if we need to analyse them individually. The columns that we will grab will work as Series"
      ]
    },
    {
      "cell_type": "code",
      "metadata": {
        "id": "de4r64xc7xj4",
        "outputId": "7d0f901f-7b57-4bed-aa93-73d2862c3035",
        "colab": {
          "base_uri": "https://localhost:8080/"
        }
      },
      "source": [
        "print(df['W']) #grabbing a single column W"
      ],
      "execution_count": 33,
      "outputs": [
        {
          "output_type": "stream",
          "text": [
            "A    0.723056\n",
            "B    0.844453\n",
            "C   -1.193186\n",
            "D   -0.229251\n",
            "Name: W, dtype: float64\n"
          ],
          "name": "stdout"
        }
      ]
    },
    {
      "cell_type": "code",
      "metadata": {
        "id": "pzrB6MMG_oVY",
        "outputId": "a6cd261c-cd8e-495c-b07b-2ffe76ea8e27",
        "colab": {
          "base_uri": "https://localhost:8080/"
        }
      },
      "source": [
        "print(df[['W','X']]) #grabbing more than one list by passing in list of columns"
      ],
      "execution_count": 34,
      "outputs": [
        {
          "output_type": "stream",
          "text": [
            "          W         X\n",
            "A  0.723056 -0.445546\n",
            "B  0.844453  0.208513\n",
            "C -1.193186  1.306642\n",
            "D -0.229251 -0.272999\n"
          ],
          "name": "stdout"
        }
      ]
    },
    {
      "cell_type": "markdown",
      "metadata": {
        "id": "udgakhZG1Rlj"
      },
      "source": [
        "### EXERCISE: Create a DataFrame with random integers and extract the First and Last column from it."
      ]
    },
    {
      "cell_type": "code",
      "metadata": {
        "id": "Tvcv0EaM1Rlj",
        "outputId": "47e36586-fdca-4319-db78-ba909b061c86",
        "colab": {
          "base_uri": "https://localhost:8080/",
          "height": 136
        }
      },
      "source": [
        "# write code in the line below\r\n",
        "import numpy as np\r\n",
        "data_frame = pd.DataFrame(np.random.randint(0, 50, (3, 3)))\r\n",
        "data_frame[[0, 2]]"
      ],
      "execution_count": 35,
      "outputs": [
        {
          "output_type": "execute_result",
          "data": {
            "text/html": [
              "<div>\n",
              "<style scoped>\n",
              "    .dataframe tbody tr th:only-of-type {\n",
              "        vertical-align: middle;\n",
              "    }\n",
              "\n",
              "    .dataframe tbody tr th {\n",
              "        vertical-align: top;\n",
              "    }\n",
              "\n",
              "    .dataframe thead th {\n",
              "        text-align: right;\n",
              "    }\n",
              "</style>\n",
              "<table border=\"1\" class=\"dataframe\">\n",
              "  <thead>\n",
              "    <tr style=\"text-align: right;\">\n",
              "      <th></th>\n",
              "      <th>0</th>\n",
              "      <th>2</th>\n",
              "    </tr>\n",
              "  </thead>\n",
              "  <tbody>\n",
              "    <tr>\n",
              "      <th>0</th>\n",
              "      <td>18</td>\n",
              "      <td>41</td>\n",
              "    </tr>\n",
              "    <tr>\n",
              "      <th>1</th>\n",
              "      <td>6</td>\n",
              "      <td>15</td>\n",
              "    </tr>\n",
              "    <tr>\n",
              "      <th>2</th>\n",
              "      <td>15</td>\n",
              "      <td>4</td>\n",
              "    </tr>\n",
              "  </tbody>\n",
              "</table>\n",
              "</div>"
            ],
            "text/plain": [
              "    0   2\n",
              "0  18  41\n",
              "1   6  15\n",
              "2  15   4"
            ]
          },
          "metadata": {
            "tags": []
          },
          "execution_count": 35
        }
      ]
    },
    {
      "cell_type": "markdown",
      "metadata": {
        "id": "RfZshwZDADEG"
      },
      "source": [
        "We can make changes to already existing Data Frames by adding or dropping columns. Many times the data that you have might have some columns that are not at all useful for your model so you might have to drop them from the Data Frame in order to make your model more accurate. Lets go ahead and take a look at how we can add and delete columns in our DataFrame.\n",
        "\n",
        "Command - \n",
        "* df['column_name'] - To add a new column we can use this command.\n",
        "* df.drop('column_name',axis = 1,inplace = True) - To drop a column from a Data Frame we can use this method. We also define the axis from which we wish to drop, so axis = 1 when we wish to drop a column and axis = 0 when we wish to drop a row. If we dont define the inplace = True, the column wont be dropped permanently from the DataFrame."
      ]
    },
    {
      "cell_type": "code",
      "metadata": {
        "id": "ygLxi4zK_rSj",
        "outputId": "2de8a67f-df6b-438e-f63e-7c26c989bbe3",
        "colab": {
          "base_uri": "https://localhost:8080/",
          "height": 166
        }
      },
      "source": [
        "df['new'] = df['X'] + df['Y']\n",
        "df.head()"
      ],
      "execution_count": 36,
      "outputs": [
        {
          "output_type": "execute_result",
          "data": {
            "text/html": [
              "<div>\n",
              "<style scoped>\n",
              "    .dataframe tbody tr th:only-of-type {\n",
              "        vertical-align: middle;\n",
              "    }\n",
              "\n",
              "    .dataframe tbody tr th {\n",
              "        vertical-align: top;\n",
              "    }\n",
              "\n",
              "    .dataframe thead th {\n",
              "        text-align: right;\n",
              "    }\n",
              "</style>\n",
              "<table border=\"1\" class=\"dataframe\">\n",
              "  <thead>\n",
              "    <tr style=\"text-align: right;\">\n",
              "      <th></th>\n",
              "      <th>W</th>\n",
              "      <th>X</th>\n",
              "      <th>Y</th>\n",
              "      <th>Z</th>\n",
              "      <th>new</th>\n",
              "    </tr>\n",
              "  </thead>\n",
              "  <tbody>\n",
              "    <tr>\n",
              "      <th>A</th>\n",
              "      <td>0.723056</td>\n",
              "      <td>-0.445546</td>\n",
              "      <td>-0.652065</td>\n",
              "      <td>-0.030567</td>\n",
              "      <td>-1.097611</td>\n",
              "    </tr>\n",
              "    <tr>\n",
              "      <th>B</th>\n",
              "      <td>0.844453</td>\n",
              "      <td>0.208513</td>\n",
              "      <td>-0.176878</td>\n",
              "      <td>0.556395</td>\n",
              "      <td>0.031636</td>\n",
              "    </tr>\n",
              "    <tr>\n",
              "      <th>C</th>\n",
              "      <td>-1.193186</td>\n",
              "      <td>1.306642</td>\n",
              "      <td>0.844274</td>\n",
              "      <td>-1.591508</td>\n",
              "      <td>2.150916</td>\n",
              "    </tr>\n",
              "    <tr>\n",
              "      <th>D</th>\n",
              "      <td>-0.229251</td>\n",
              "      <td>-0.272999</td>\n",
              "      <td>-3.005975</td>\n",
              "      <td>-0.972506</td>\n",
              "      <td>-3.278974</td>\n",
              "    </tr>\n",
              "  </tbody>\n",
              "</table>\n",
              "</div>"
            ],
            "text/plain": [
              "          W         X         Y         Z       new\n",
              "A  0.723056 -0.445546 -0.652065 -0.030567 -1.097611\n",
              "B  0.844453  0.208513 -0.176878  0.556395  0.031636\n",
              "C -1.193186  1.306642  0.844274 -1.591508  2.150916\n",
              "D -0.229251 -0.272999 -3.005975 -0.972506 -3.278974"
            ]
          },
          "metadata": {
            "tags": []
          },
          "execution_count": 36
        }
      ]
    },
    {
      "cell_type": "code",
      "metadata": {
        "id": "FBp1_3z3AZSc"
      },
      "source": [
        "df.drop('new',axis = 1,inplace = True)"
      ],
      "execution_count": 37,
      "outputs": []
    },
    {
      "cell_type": "code",
      "metadata": {
        "id": "UxPY_Vp_AmOQ",
        "outputId": "30022715-b619-4b96-f723-f0e912114699",
        "colab": {
          "base_uri": "https://localhost:8080/",
          "height": 166
        }
      },
      "source": [
        "df.head()"
      ],
      "execution_count": 38,
      "outputs": [
        {
          "output_type": "execute_result",
          "data": {
            "text/html": [
              "<div>\n",
              "<style scoped>\n",
              "    .dataframe tbody tr th:only-of-type {\n",
              "        vertical-align: middle;\n",
              "    }\n",
              "\n",
              "    .dataframe tbody tr th {\n",
              "        vertical-align: top;\n",
              "    }\n",
              "\n",
              "    .dataframe thead th {\n",
              "        text-align: right;\n",
              "    }\n",
              "</style>\n",
              "<table border=\"1\" class=\"dataframe\">\n",
              "  <thead>\n",
              "    <tr style=\"text-align: right;\">\n",
              "      <th></th>\n",
              "      <th>W</th>\n",
              "      <th>X</th>\n",
              "      <th>Y</th>\n",
              "      <th>Z</th>\n",
              "    </tr>\n",
              "  </thead>\n",
              "  <tbody>\n",
              "    <tr>\n",
              "      <th>A</th>\n",
              "      <td>0.723056</td>\n",
              "      <td>-0.445546</td>\n",
              "      <td>-0.652065</td>\n",
              "      <td>-0.030567</td>\n",
              "    </tr>\n",
              "    <tr>\n",
              "      <th>B</th>\n",
              "      <td>0.844453</td>\n",
              "      <td>0.208513</td>\n",
              "      <td>-0.176878</td>\n",
              "      <td>0.556395</td>\n",
              "    </tr>\n",
              "    <tr>\n",
              "      <th>C</th>\n",
              "      <td>-1.193186</td>\n",
              "      <td>1.306642</td>\n",
              "      <td>0.844274</td>\n",
              "      <td>-1.591508</td>\n",
              "    </tr>\n",
              "    <tr>\n",
              "      <th>D</th>\n",
              "      <td>-0.229251</td>\n",
              "      <td>-0.272999</td>\n",
              "      <td>-3.005975</td>\n",
              "      <td>-0.972506</td>\n",
              "    </tr>\n",
              "  </tbody>\n",
              "</table>\n",
              "</div>"
            ],
            "text/plain": [
              "          W         X         Y         Z\n",
              "A  0.723056 -0.445546 -0.652065 -0.030567\n",
              "B  0.844453  0.208513 -0.176878  0.556395\n",
              "C -1.193186  1.306642  0.844274 -1.591508\n",
              "D -0.229251 -0.272999 -3.005975 -0.972506"
            ]
          },
          "metadata": {
            "tags": []
          },
          "execution_count": 38
        }
      ]
    },
    {
      "cell_type": "markdown",
      "metadata": {
        "id": "IERfKErZA0co"
      },
      "source": [
        "As you can see, we added a new column to our data frame called 'new'. Then we dropped it using the .drop() method and when we call the head on our Data Frame, we can see that the column does not exist any more in the Data Frame."
      ]
    },
    {
      "cell_type": "markdown",
      "metadata": {
        "id": "w9OgbxZg1Rll"
      },
      "source": [
        "### EXERCISE: Remove the third row and show  the DataFrame created in the previous exercise."
      ]
    },
    {
      "cell_type": "code",
      "metadata": {
        "id": "G5vuI7jJ1Rll",
        "outputId": "8d4daa71-03e8-45de-ba23-e1d8f64dbac0",
        "colab": {
          "base_uri": "https://localhost:8080/",
          "height": 136
        }
      },
      "source": [
        "# write code in the line below\r\n",
        "df_new = df.drop('C', axis=0, inplace=False)\r\n",
        "df_new"
      ],
      "execution_count": 42,
      "outputs": [
        {
          "output_type": "execute_result",
          "data": {
            "text/html": [
              "<div>\n",
              "<style scoped>\n",
              "    .dataframe tbody tr th:only-of-type {\n",
              "        vertical-align: middle;\n",
              "    }\n",
              "\n",
              "    .dataframe tbody tr th {\n",
              "        vertical-align: top;\n",
              "    }\n",
              "\n",
              "    .dataframe thead th {\n",
              "        text-align: right;\n",
              "    }\n",
              "</style>\n",
              "<table border=\"1\" class=\"dataframe\">\n",
              "  <thead>\n",
              "    <tr style=\"text-align: right;\">\n",
              "      <th></th>\n",
              "      <th>W</th>\n",
              "      <th>X</th>\n",
              "      <th>Y</th>\n",
              "      <th>Z</th>\n",
              "    </tr>\n",
              "  </thead>\n",
              "  <tbody>\n",
              "    <tr>\n",
              "      <th>A</th>\n",
              "      <td>0.723056</td>\n",
              "      <td>-0.445546</td>\n",
              "      <td>-0.652065</td>\n",
              "      <td>-0.030567</td>\n",
              "    </tr>\n",
              "    <tr>\n",
              "      <th>B</th>\n",
              "      <td>0.844453</td>\n",
              "      <td>0.208513</td>\n",
              "      <td>-0.176878</td>\n",
              "      <td>0.556395</td>\n",
              "    </tr>\n",
              "    <tr>\n",
              "      <th>D</th>\n",
              "      <td>-0.229251</td>\n",
              "      <td>-0.272999</td>\n",
              "      <td>-3.005975</td>\n",
              "      <td>-0.972506</td>\n",
              "    </tr>\n",
              "  </tbody>\n",
              "</table>\n",
              "</div>"
            ],
            "text/plain": [
              "          W         X         Y         Z\n",
              "A  0.723056 -0.445546 -0.652065 -0.030567\n",
              "B  0.844453  0.208513 -0.176878  0.556395\n",
              "D -0.229251 -0.272999 -3.005975 -0.972506"
            ]
          },
          "metadata": {
            "tags": []
          },
          "execution_count": 42
        }
      ]
    },
    {
      "cell_type": "markdown",
      "metadata": {
        "id": "ZjYHUOBUxvNG"
      },
      "source": [
        "**Here I have given 'inplce' argument as False as in the following code, 3rd row is used**"
      ]
    },
    {
      "cell_type": "markdown",
      "metadata": {
        "id": "Dasewt9oB-u2"
      },
      "source": [
        "# **Selecting Rows and Columns**\n",
        "\n",
        "---\n",
        "In some cases you will need to select some specific rows and columns in order to analyse your data, in such cases method like '.loc' and '.iloc' come into picture. These will help you grab a row by either using the name of the row or by using the index. To grab a column just pass the column name in your DataFrame Object.\n",
        "\n",
        "Command -\n",
        "* df.loc['row_name'] - Helps in fetching the row by using the row name.\n",
        "* df.iloc[x] - Helps in fetching the row using the Index number(x).\n",
        "* df[[column_name]] - Helps in fetching the column using the Column name. Be careful with the two Square Brackets.\n",
        "\n"
      ]
    },
    {
      "cell_type": "code",
      "metadata": {
        "id": "Wl3b-0-7ArN-",
        "outputId": "601913cf-ab12-490a-db07-698d2370844c",
        "colab": {
          "base_uri": "https://localhost:8080/"
        }
      },
      "source": [
        "df.loc['C'] #using .loc()"
      ],
      "execution_count": 40,
      "outputs": [
        {
          "output_type": "execute_result",
          "data": {
            "text/plain": [
              "W   -1.193186\n",
              "X    1.306642\n",
              "Y    0.844274\n",
              "Z   -1.591508\n",
              "Name: C, dtype: float64"
            ]
          },
          "metadata": {
            "tags": []
          },
          "execution_count": 40
        }
      ]
    },
    {
      "cell_type": "code",
      "metadata": {
        "id": "LWC9eFR_C8OD",
        "outputId": "330b3939-a443-49c8-b986-e0533de98ce9",
        "colab": {
          "base_uri": "https://localhost:8080/"
        }
      },
      "source": [
        "df.iloc[2] #using .iloc()"
      ],
      "execution_count": 24,
      "outputs": [
        {
          "output_type": "execute_result",
          "data": {
            "text/plain": [
              "W    0.928126\n",
              "X    0.101014\n",
              "Y    1.191366\n",
              "Z   -0.442132\n",
              "Name: D, dtype: float64"
            ]
          },
          "metadata": {
            "tags": []
          },
          "execution_count": 24
        }
      ]
    },
    {
      "cell_type": "code",
      "metadata": {
        "id": "mOsZVARODAqj",
        "outputId": "faafb595-23b9-4bd3-9333-ab48891a5168",
        "colab": {
          "base_uri": "https://localhost:8080/",
          "height": 136
        }
      },
      "source": [
        "df[['X']] #fetching the column"
      ],
      "execution_count": 25,
      "outputs": [
        {
          "output_type": "execute_result",
          "data": {
            "text/html": [
              "<div>\n",
              "<style scoped>\n",
              "    .dataframe tbody tr th:only-of-type {\n",
              "        vertical-align: middle;\n",
              "    }\n",
              "\n",
              "    .dataframe tbody tr th {\n",
              "        vertical-align: top;\n",
              "    }\n",
              "\n",
              "    .dataframe thead th {\n",
              "        text-align: right;\n",
              "    }\n",
              "</style>\n",
              "<table border=\"1\" class=\"dataframe\">\n",
              "  <thead>\n",
              "    <tr style=\"text-align: right;\">\n",
              "      <th></th>\n",
              "      <th>X</th>\n",
              "    </tr>\n",
              "  </thead>\n",
              "  <tbody>\n",
              "    <tr>\n",
              "      <th>A</th>\n",
              "      <td>2.149702</td>\n",
              "    </tr>\n",
              "    <tr>\n",
              "      <th>B</th>\n",
              "      <td>-0.670875</td>\n",
              "    </tr>\n",
              "    <tr>\n",
              "      <th>D</th>\n",
              "      <td>0.101014</td>\n",
              "    </tr>\n",
              "  </tbody>\n",
              "</table>\n",
              "</div>"
            ],
            "text/plain": [
              "          X\n",
              "A  2.149702\n",
              "B -0.670875\n",
              "D  0.101014"
            ]
          },
          "metadata": {
            "tags": []
          },
          "execution_count": 25
        }
      ]
    },
    {
      "cell_type": "code",
      "metadata": {
        "id": "s7Ovjiv2DdkW",
        "outputId": "48fc14d9-1a00-4812-8399-cf8b348bbeb3",
        "colab": {
          "base_uri": "https://localhost:8080/"
        }
      },
      "source": [
        "df.loc['B','Y'] #we can pass the row name and column name in .loc to get a specific value"
      ],
      "execution_count": 26,
      "outputs": [
        {
          "output_type": "execute_result",
          "data": {
            "text/plain": [
              "-0.30031442492452853"
            ]
          },
          "metadata": {
            "tags": []
          },
          "execution_count": 26
        }
      ]
    },
    {
      "cell_type": "code",
      "metadata": {
        "id": "J_iFY1NIDf8O",
        "outputId": "39007ee9-c3ab-4328-c9cd-318215fa83b2",
        "colab": {
          "base_uri": "https://localhost:8080/",
          "height": 106
        }
      },
      "source": [
        "df.loc[['A','B'],['W','Y']] #we passed the columns that we need and the rows that we need and we got the info that we needed"
      ],
      "execution_count": 27,
      "outputs": [
        {
          "output_type": "execute_result",
          "data": {
            "text/html": [
              "<div>\n",
              "<style scoped>\n",
              "    .dataframe tbody tr th:only-of-type {\n",
              "        vertical-align: middle;\n",
              "    }\n",
              "\n",
              "    .dataframe tbody tr th {\n",
              "        vertical-align: top;\n",
              "    }\n",
              "\n",
              "    .dataframe thead th {\n",
              "        text-align: right;\n",
              "    }\n",
              "</style>\n",
              "<table border=\"1\" class=\"dataframe\">\n",
              "  <thead>\n",
              "    <tr style=\"text-align: right;\">\n",
              "      <th></th>\n",
              "      <th>W</th>\n",
              "      <th>Y</th>\n",
              "    </tr>\n",
              "  </thead>\n",
              "  <tbody>\n",
              "    <tr>\n",
              "      <th>A</th>\n",
              "      <td>0.420934</td>\n",
              "      <td>-1.019098</td>\n",
              "    </tr>\n",
              "    <tr>\n",
              "      <th>B</th>\n",
              "      <td>0.440920</td>\n",
              "      <td>-0.300314</td>\n",
              "    </tr>\n",
              "  </tbody>\n",
              "</table>\n",
              "</div>"
            ],
            "text/plain": [
              "          W         Y\n",
              "A  0.420934 -1.019098\n",
              "B  0.440920 -0.300314"
            ]
          },
          "metadata": {
            "tags": []
          },
          "execution_count": 27
        }
      ]
    },
    {
      "cell_type": "markdown",
      "metadata": {
        "id": "gBdLf2nE1Rlm"
      },
      "source": [
        "### EXERCISE: Use the DataFrame created and formatted in the previous Exercises and extract the 2nd and 3rd rows from its 1st three columns."
      ]
    },
    {
      "cell_type": "code",
      "metadata": {
        "id": "j9iHCTJR1Rlm",
        "outputId": "7c74c2d4-185c-4bb9-f580-2dfe60b47980",
        "colab": {
          "base_uri": "https://localhost:8080/",
          "height": 106
        }
      },
      "source": [
        "# write code in the line below\r\n",
        "df.iloc[[1, 2], [i for i in range(3)]]"
      ],
      "execution_count": 41,
      "outputs": [
        {
          "output_type": "execute_result",
          "data": {
            "text/html": [
              "<div>\n",
              "<style scoped>\n",
              "    .dataframe tbody tr th:only-of-type {\n",
              "        vertical-align: middle;\n",
              "    }\n",
              "\n",
              "    .dataframe tbody tr th {\n",
              "        vertical-align: top;\n",
              "    }\n",
              "\n",
              "    .dataframe thead th {\n",
              "        text-align: right;\n",
              "    }\n",
              "</style>\n",
              "<table border=\"1\" class=\"dataframe\">\n",
              "  <thead>\n",
              "    <tr style=\"text-align: right;\">\n",
              "      <th></th>\n",
              "      <th>W</th>\n",
              "      <th>X</th>\n",
              "      <th>Y</th>\n",
              "    </tr>\n",
              "  </thead>\n",
              "  <tbody>\n",
              "    <tr>\n",
              "      <th>B</th>\n",
              "      <td>0.844453</td>\n",
              "      <td>0.208513</td>\n",
              "      <td>-0.176878</td>\n",
              "    </tr>\n",
              "    <tr>\n",
              "      <th>C</th>\n",
              "      <td>-1.193186</td>\n",
              "      <td>1.306642</td>\n",
              "      <td>0.844274</td>\n",
              "    </tr>\n",
              "  </tbody>\n",
              "</table>\n",
              "</div>"
            ],
            "text/plain": [
              "          W         X         Y\n",
              "B  0.844453  0.208513 -0.176878\n",
              "C -1.193186  1.306642  0.844274"
            ]
          },
          "metadata": {
            "tags": []
          },
          "execution_count": 41
        }
      ]
    },
    {
      "cell_type": "markdown",
      "metadata": {
        "id": "mVMhfJE7EWgK"
      },
      "source": [
        "# **Working with Missing data**\r\n",
        "\r\n",
        "---"
      ]
    },
    {
      "cell_type": "markdown",
      "metadata": {
        "id": "FXMo0G-iEwXr"
      },
      "source": [
        "Any data that you get will always have some sort of missing values, its very rare that you get a data without any missing values.In this section we will learn how to deal with the missing values."
      ]
    },
    {
      "cell_type": "code",
      "metadata": {
        "id": "ZcqVAxOiDiVE",
        "outputId": "d468b4cd-f85f-4d32-9d6b-aa9e5c60170e",
        "colab": {
          "base_uri": "https://localhost:8080/"
        }
      },
      "source": [
        "d = {'A':[1,2,np.nan],'B':[5,np.nan,np.nan],'C':[1,2,3]} \n",
        "df1 = pd.DataFrame(d)\n",
        "print(df1)"
      ],
      "execution_count": 43,
      "outputs": [
        {
          "output_type": "stream",
          "text": [
            "     A    B  C\n",
            "0  1.0  5.0  1\n",
            "1  2.0  NaN  2\n",
            "2  NaN  NaN  3\n"
          ],
          "name": "stdout"
        }
      ]
    },
    {
      "cell_type": "markdown",
      "metadata": {
        "id": "LElt2pWZE-ur"
      },
      "source": [
        "\n",
        "As we can see we have a new data set with NaN values in it and we will be performing all our operations on it. Many a times these NaN values are very less in number and can be discarded. For this purpose we use the '.dropna() method. This will drop all the NaN values in our data."
      ]
    },
    {
      "cell_type": "code",
      "metadata": {
        "id": "ePm3FB-xEcXg",
        "outputId": "b4b1f3a6-4b5e-4eaa-bd3b-d7c7e4b620ef",
        "colab": {
          "base_uri": "https://localhost:8080/",
          "height": 77
        }
      },
      "source": [
        "df1.dropna() #dropped all the rows with NaN values"
      ],
      "execution_count": 44,
      "outputs": [
        {
          "output_type": "execute_result",
          "data": {
            "text/html": [
              "<div>\n",
              "<style scoped>\n",
              "    .dataframe tbody tr th:only-of-type {\n",
              "        vertical-align: middle;\n",
              "    }\n",
              "\n",
              "    .dataframe tbody tr th {\n",
              "        vertical-align: top;\n",
              "    }\n",
              "\n",
              "    .dataframe thead th {\n",
              "        text-align: right;\n",
              "    }\n",
              "</style>\n",
              "<table border=\"1\" class=\"dataframe\">\n",
              "  <thead>\n",
              "    <tr style=\"text-align: right;\">\n",
              "      <th></th>\n",
              "      <th>A</th>\n",
              "      <th>B</th>\n",
              "      <th>C</th>\n",
              "    </tr>\n",
              "  </thead>\n",
              "  <tbody>\n",
              "    <tr>\n",
              "      <th>0</th>\n",
              "      <td>1.0</td>\n",
              "      <td>5.0</td>\n",
              "      <td>1</td>\n",
              "    </tr>\n",
              "  </tbody>\n",
              "</table>\n",
              "</div>"
            ],
            "text/plain": [
              "     A    B  C\n",
              "0  1.0  5.0  1"
            ]
          },
          "metadata": {
            "tags": []
          },
          "execution_count": 44
        }
      ]
    },
    {
      "cell_type": "markdown",
      "metadata": {
        "id": "uc78sd35FDFI"
      },
      "source": [
        "Sometimes the amount of NaN values might be huge so in that case we cant just discard them. We will have to fill them up. We use the .fillna() method to do so."
      ]
    },
    {
      "cell_type": "code",
      "metadata": {
        "id": "RIx7sUm9E6Vx",
        "outputId": "50664732-77cf-42a0-b42d-a81927497c7d",
        "colab": {
          "base_uri": "https://localhost:8080/"
        }
      },
      "source": [
        "print(df1.fillna(value = 0)) #filling up all the NaN values with 0"
      ],
      "execution_count": 45,
      "outputs": [
        {
          "output_type": "stream",
          "text": [
            "     A    B  C\n",
            "0  1.0  5.0  1\n",
            "1  2.0  0.0  2\n",
            "2  0.0  0.0  3\n"
          ],
          "name": "stdout"
        }
      ]
    },
    {
      "cell_type": "markdown",
      "metadata": {
        "id": "Pj4C4Id-FFuJ"
      },
      "source": [
        "### EXERCISE: Create a DataFrame with NaN values in it and fill them up using the mean of the 2nd Column."
      ]
    },
    {
      "cell_type": "code",
      "metadata": {
        "id": "1pCUSodB1Rlo",
        "outputId": "f6be6717-e564-4f18-aea7-4a96f7eee6e3",
        "colab": {
          "base_uri": "https://localhost:8080/",
          "height": 136
        }
      },
      "source": [
        "# write code in the line below\r\n",
        "d1 = {'A': [np.nan, 1, 6], 'B': [1., 2., 3.], 'C': [np.nan, 3, np.nan]}\r\n",
        "df2 = pd.DataFrame(d1)\r\n",
        "df2.fillna(value = float(df2[['B']].mean()))\r\n",
        "\r\n"
      ],
      "execution_count": 77,
      "outputs": [
        {
          "output_type": "execute_result",
          "data": {
            "text/html": [
              "<div>\n",
              "<style scoped>\n",
              "    .dataframe tbody tr th:only-of-type {\n",
              "        vertical-align: middle;\n",
              "    }\n",
              "\n",
              "    .dataframe tbody tr th {\n",
              "        vertical-align: top;\n",
              "    }\n",
              "\n",
              "    .dataframe thead th {\n",
              "        text-align: right;\n",
              "    }\n",
              "</style>\n",
              "<table border=\"1\" class=\"dataframe\">\n",
              "  <thead>\n",
              "    <tr style=\"text-align: right;\">\n",
              "      <th></th>\n",
              "      <th>A</th>\n",
              "      <th>B</th>\n",
              "      <th>C</th>\n",
              "    </tr>\n",
              "  </thead>\n",
              "  <tbody>\n",
              "    <tr>\n",
              "      <th>0</th>\n",
              "      <td>2.0</td>\n",
              "      <td>1.0</td>\n",
              "      <td>2.0</td>\n",
              "    </tr>\n",
              "    <tr>\n",
              "      <th>1</th>\n",
              "      <td>1.0</td>\n",
              "      <td>2.0</td>\n",
              "      <td>3.0</td>\n",
              "    </tr>\n",
              "    <tr>\n",
              "      <th>2</th>\n",
              "      <td>6.0</td>\n",
              "      <td>3.0</td>\n",
              "      <td>2.0</td>\n",
              "    </tr>\n",
              "  </tbody>\n",
              "</table>\n",
              "</div>"
            ],
            "text/plain": [
              "     A    B    C\n",
              "0  2.0  1.0  2.0\n",
              "1  1.0  2.0  3.0\n",
              "2  6.0  3.0  2.0"
            ]
          },
          "metadata": {
            "tags": []
          },
          "execution_count": 77
        }
      ]
    },
    {
      "cell_type": "code",
      "metadata": {
        "id": "SZR5p_Toztey"
      },
      "source": [
        ""
      ],
      "execution_count": null,
      "outputs": []
    }
  ]
}