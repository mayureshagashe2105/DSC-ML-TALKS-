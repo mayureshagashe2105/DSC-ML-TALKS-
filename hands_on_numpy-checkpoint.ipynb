{
 "cells": [
  {
   "cell_type": "markdown",
   "metadata": {
    "id": "RIJvQsFM9I-6",
    "papermill": {
     "duration": 0.039678,
     "end_time": "2021-01-11T17:10:39.589435",
     "exception": false,
     "start_time": "2021-01-11T17:10:39.549757",
     "status": "completed"
    },
    "tags": []
   },
   "source": [
    "# Hands-on NumPy\n",
    "---\n",
    "Welcome to the second session of the DSC ML Talks event!. \n",
    "\n",
    "In this hands-on workshop on NumPy, we will be covering some of the most important concepts of the PyData module NumPy. \n",
    "\n",
    "This notebook contains many exercise as well based on the topics that will be covered in this session. We want you to attempt those exercises after this session ends, and make your submissions in a Google Form to be shared at the end of this session. \n",
    "\n",
    "### Import NumPy\n",
    "---\n",
    "\n",
    "In order to use NumPy in your python projects, the first step is to import the NumPy mudule. Here is how you do that."
   ]
  },
  {
   "cell_type": "code",
   "execution_count": 1,
   "metadata": {
    "_cell_guid": "b1076dfc-b9ad-4769-8c92-a6c4dae69d19",
    "_uuid": "8f2839f25d086af736a60e9eeb907d3b93b6e0e5",
    "execution": {
     "iopub.execute_input": "2021-01-11T17:10:39.829020Z",
     "iopub.status.busy": "2021-01-11T17:10:39.828082Z",
     "iopub.status.idle": "2021-01-11T17:10:39.832224Z",
     "shell.execute_reply": "2021-01-11T17:10:39.832678Z"
    },
    "id": "hb1k6j0l9I_F",
    "papermill": {
     "duration": 0.046994,
     "end_time": "2021-01-11T17:10:39.832810",
     "exception": false,
     "start_time": "2021-01-11T17:10:39.785816",
     "status": "completed"
    },
    "tags": []
   },
   "outputs": [],
   "source": [
    "# importing numpy\n",
    "import numpy as np"
   ]
  },
  {
   "cell_type": "markdown",
   "metadata": {
    "id": "xI-4e_pd9I_G",
    "papermill": {
     "duration": 0.040422,
     "end_time": "2021-01-11T17:10:39.912341",
     "exception": false,
     "start_time": "2021-01-11T17:10:39.871919",
     "status": "completed"
    },
    "tags": []
   },
   "source": [
    "Next up, let's take a look at lists and arrays.\n",
    "\n",
    "## Arrays in NumPy\n",
    "---\n",
    "\n",
    "* Arrays are the most distinguishing feature of the NumPy module.\n",
    "* Can be thought of as a substitute of Python lists.\n",
    "* NumPy arrays are MUCH faster than Python lists. \n",
    "\n",
    "If we talk in mathematical terminology, a 1-D array represents a vector and a 2-D array represents a matrix."
   ]
  },
  {
   "cell_type": "code",
   "execution_count": 2,
   "metadata": {
    "colab": {
     "base_uri": "https://localhost:8080/"
    },
    "execution": {
     "iopub.execute_input": "2021-01-11T17:10:39.997833Z",
     "iopub.status.busy": "2021-01-11T17:10:39.996870Z",
     "iopub.status.idle": "2021-01-11T17:10:40.000401Z",
     "shell.execute_reply": "2021-01-11T17:10:40.000851Z"
    },
    "id": "Wnfq62qk9I_H",
    "outputId": "6717337f-f888-4292-ffbe-b47b20051214",
    "papermill": {
     "duration": 0.048188,
     "end_time": "2021-01-11T17:10:40.000991",
     "exception": false,
     "start_time": "2021-01-11T17:10:39.952803",
     "status": "completed"
    },
    "tags": []
   },
   "outputs": [
    {
     "data": {
      "text/plain": [
       "[0, 1, 2, 3, 4, 5, 6, 7, 8, 9]"
      ]
     },
     "execution_count": 2,
     "metadata": {},
     "output_type": "execute_result"
    }
   ],
   "source": [
    "x = list(range(10)) # this creates a list of length 10 with elements from 0 to 10\n",
    "x"
   ]
  },
  {
   "cell_type": "markdown",
   "metadata": {
    "id": "qkooIdWm9I_I",
    "papermill": {
     "duration": 0.037553,
     "end_time": "2021-01-11T17:10:40.077551",
     "exception": false,
     "start_time": "2021-01-11T17:10:40.039998",
     "status": "completed"
    },
    "tags": []
   },
   "source": [
    "We already know what python lists are, and how they work. So let's now use the list __x__ that we declated above, and covert into a NumPy array.\n",
    "\n"
   ]
  },
  {
   "cell_type": "code",
   "execution_count": 3,
   "metadata": {
    "colab": {
     "base_uri": "https://localhost:8080/"
    },
    "execution": {
     "iopub.execute_input": "2021-01-11T17:10:40.166437Z",
     "iopub.status.busy": "2021-01-11T17:10:40.165456Z",
     "iopub.status.idle": "2021-01-11T17:10:40.169051Z",
     "shell.execute_reply": "2021-01-11T17:10:40.169560Z"
    },
    "id": "Hau3l9_s9I_J",
    "outputId": "953f47d3-294b-4ad8-94f5-9d3156470370",
    "papermill": {
     "duration": 0.050743,
     "end_time": "2021-01-11T17:10:40.169702",
     "exception": false,
     "start_time": "2021-01-11T17:10:40.118959",
     "status": "completed"
    },
    "tags": []
   },
   "outputs": [
    {
     "data": {
      "text/plain": [
       "array([0, 1, 2, 3, 4, 5, 6, 7, 8, 9])"
      ]
     },
     "execution_count": 3,
     "metadata": {},
     "output_type": "execute_result"
    }
   ],
   "source": [
    "# creating a numpy array using a python list\n",
    "x_arr = np.array(x)\n",
    "x_arr"
   ]
  },
  {
   "cell_type": "markdown",
   "metadata": {
    "id": "wniILt5JcDr-"
   },
   "source": [
    "### EXERCISE: Create any python list of your choice and the print a NumPy array using the python list "
   ]
  },
  {
   "cell_type": "code",
   "execution_count": 4,
   "metadata": {
    "colab": {
     "base_uri": "https://localhost:8080/"
    },
    "id": "HsJpgw9FcQMI",
    "outputId": "adab7155-c9fb-407e-f97f-997b4e0aa5e0"
   },
   "outputs": [
    {
     "data": {
      "text/plain": [
       "array([0, 2, 4, 6, 8])"
      ]
     },
     "execution_count": 4,
     "metadata": {},
     "output_type": "execute_result"
    }
   ],
   "source": [
    "# enter code here\n",
    "y = [i for i in range(0, 10, 2)]\n",
    "y = np.array(y)\n",
    "y"
   ]
  },
  {
   "cell_type": "markdown",
   "metadata": {
    "id": "43DAD8a79I_J",
    "papermill": {
     "duration": 0.039822,
     "end_time": "2021-01-11T17:10:40.249423",
     "exception": false,
     "start_time": "2021-01-11T17:10:40.209601",
     "status": "completed"
    },
    "tags": []
   },
   "source": [
    "Now one very important thing to note is that lists and numpy arrays are different because in lists you can have any types of values, it can be an int, a string, a float, etc. __But numpy array can only contain elements of a single data-type__ and it will upcast if the types don't match. \n",
    "\n",
    "Let us see how this works."
   ]
  },
  {
   "cell_type": "code",
   "execution_count": 5,
   "metadata": {
    "colab": {
     "base_uri": "https://localhost:8080/"
    },
    "execution": {
     "iopub.execute_input": "2021-01-11T17:10:40.331894Z",
     "iopub.status.busy": "2021-01-11T17:10:40.330936Z",
     "iopub.status.idle": "2021-01-11T17:10:40.336836Z",
     "shell.execute_reply": "2021-01-11T17:10:40.337353Z"
    },
    "id": "SrDCgBpf9I_K",
    "outputId": "c41c9fdb-15fd-44ad-c85d-8e1378c0f5ef",
    "papermill": {
     "duration": 0.048469,
     "end_time": "2021-01-11T17:10:40.337484",
     "exception": false,
     "start_time": "2021-01-11T17:10:40.289015",
     "status": "completed"
    },
    "tags": []
   },
   "outputs": [
    {
     "data": {
      "text/plain": [
       "array([  10.,  100., 1000.,  113.])"
      ]
     },
     "execution_count": 5,
     "metadata": {},
     "output_type": "execute_result"
    }
   ],
   "source": [
    "z = np.array([10, 100, 1000.0, 113]) # 3rd element, 1000.0 is a floating point number\n",
    "z"
   ]
  },
  {
   "cell_type": "markdown",
   "metadata": {
    "id": "amL63oZ99I_L",
    "papermill": {
     "duration": 0.038987,
     "end_time": "2021-01-11T17:10:40.495032",
     "exception": false,
     "start_time": "2021-01-11T17:10:40.456045",
     "status": "completed"
    },
    "tags": []
   },
   "source": [
    "As you can see we passed in a float value along with the different integer values and the resultant array was one which contained all float values. So the integer values were typecasted to floats as well.\n",
    "\n",
    "\n",
    "Here are some more important numpy functions that might come in handy.\n",
    "\n",
    "* __np.zeros(shape, dtype)__ = This helps in creating an array of zeroes where length is equal to the length of the array we want and dtype is the data type of the elements in the array. You can also pass in the dimensions of the array that you wish to have.\n",
    "\n",
    "* __np.ones(shape, dtype)__ = This helps in creating an array of ones where length is equal to the length of the array we want and dtype is the data type of the elements in the array. You can also pass in the dimensions of the array that you wish to have.\n",
    "\n",
    "* __np.arange(start, end, step)__ = This helps in creating an array of elements starting from the 'start' and going till the end with taking the specified number of steps in between.\n",
    "\n",
    "* __np.linspace(start, end)__ = This creates an array of evenly spaced elements.\n",
    "\n",
    "* __np.random.randint(start, end, shape)__ = This creates an array of the dimensions that we provide and the the elements are random numbers betweent the start and the end."
   ]
  },
  {
   "cell_type": "code",
   "execution_count": 6,
   "metadata": {
    "colab": {
     "base_uri": "https://localhost:8080/"
    },
    "execution": {
     "iopub.execute_input": "2021-01-11T17:10:40.577994Z",
     "iopub.status.busy": "2021-01-11T17:10:40.577006Z",
     "iopub.status.idle": "2021-01-11T17:10:40.582480Z",
     "shell.execute_reply": "2021-01-11T17:10:40.582983Z"
    },
    "id": "CFPLnDln9I_M",
    "outputId": "44852fa2-9d87-4f6f-b4a0-7d59326e98c6",
    "papermill": {
     "duration": 0.049591,
     "end_time": "2021-01-11T17:10:40.583107",
     "exception": false,
     "start_time": "2021-01-11T17:10:40.533516",
     "status": "completed"
    },
    "tags": []
   },
   "outputs": [
    {
     "data": {
      "text/plain": [
       "array([0, 0, 0, 0, 0])"
      ]
     },
     "execution_count": 6,
     "metadata": {},
     "output_type": "execute_result"
    }
   ],
   "source": [
    "np.zeros(5, dtype = int)"
   ]
  },
  {
   "cell_type": "code",
   "execution_count": 7,
   "metadata": {
    "colab": {
     "base_uri": "https://localhost:8080/"
    },
    "execution": {
     "iopub.execute_input": "2021-01-11T17:10:40.666370Z",
     "iopub.status.busy": "2021-01-11T17:10:40.665423Z",
     "iopub.status.idle": "2021-01-11T17:10:40.671492Z",
     "shell.execute_reply": "2021-01-11T17:10:40.671959Z"
    },
    "id": "mpNKbIY59I_M",
    "outputId": "986c9694-d1ca-4fe9-abc9-b74009b165e8",
    "papermill": {
     "duration": 0.048866,
     "end_time": "2021-01-11T17:10:40.672099",
     "exception": false,
     "start_time": "2021-01-11T17:10:40.623233",
     "status": "completed"
    },
    "tags": []
   },
   "outputs": [
    {
     "data": {
      "text/plain": [
       "array([[1, 1, 1, 1],\n",
       "       [1, 1, 1, 1],\n",
       "       [1, 1, 1, 1]])"
      ]
     },
     "execution_count": 7,
     "metadata": {},
     "output_type": "execute_result"
    }
   ],
   "source": [
    "np.ones((3, 4), dtype=int)"
   ]
  },
  {
   "cell_type": "code",
   "execution_count": 8,
   "metadata": {
    "colab": {
     "base_uri": "https://localhost:8080/"
    },
    "execution": {
     "iopub.execute_input": "2021-01-11T17:10:40.757028Z",
     "iopub.status.busy": "2021-01-11T17:10:40.756374Z",
     "iopub.status.idle": "2021-01-11T17:10:40.759304Z",
     "shell.execute_reply": "2021-01-11T17:10:40.759758Z"
    },
    "id": "RrUp00t29I_N",
    "outputId": "a460fb68-ff27-443b-eeee-fb9ad1dbfd57",
    "papermill": {
     "duration": 0.047792,
     "end_time": "2021-01-11T17:10:40.759902",
     "exception": false,
     "start_time": "2021-01-11T17:10:40.712110",
     "status": "completed"
    },
    "tags": []
   },
   "outputs": [
    {
     "data": {
      "text/plain": [
       "array([0, 2, 4])"
      ]
     },
     "execution_count": 8,
     "metadata": {},
     "output_type": "execute_result"
    }
   ],
   "source": [
    "np.arange(0, 5, 2)"
   ]
  },
  {
   "cell_type": "code",
   "execution_count": 9,
   "metadata": {
    "colab": {
     "base_uri": "https://localhost:8080/"
    },
    "execution": {
     "iopub.execute_input": "2021-01-11T17:10:40.845619Z",
     "iopub.status.busy": "2021-01-11T17:10:40.845014Z",
     "iopub.status.idle": "2021-01-11T17:10:40.849611Z",
     "shell.execute_reply": "2021-01-11T17:10:40.850056Z"
    },
    "id": "xJQx_bGB9I_N",
    "outputId": "b91137d2-49af-426d-ee54-ec9a57caad69",
    "papermill": {
     "duration": 0.048853,
     "end_time": "2021-01-11T17:10:40.850188",
     "exception": false,
     "start_time": "2021-01-11T17:10:40.801335",
     "status": "completed"
    },
    "tags": []
   },
   "outputs": [
    {
     "data": {
      "text/plain": [
       "array([ 0. ,  2.5,  5. ,  7.5, 10. ])"
      ]
     },
     "execution_count": 9,
     "metadata": {},
     "output_type": "execute_result"
    }
   ],
   "source": [
    "np.linspace(0, 10, 5)"
   ]
  },
  {
   "cell_type": "code",
   "execution_count": 10,
   "metadata": {
    "colab": {
     "base_uri": "https://localhost:8080/"
    },
    "execution": {
     "iopub.execute_input": "2021-01-11T17:10:40.939672Z",
     "iopub.status.busy": "2021-01-11T17:10:40.939029Z",
     "iopub.status.idle": "2021-01-11T17:10:40.944859Z",
     "shell.execute_reply": "2021-01-11T17:10:40.944314Z"
    },
    "id": "t88IXrGU9I_O",
    "outputId": "583507ab-e338-4e6f-8b81-06823d54ecd2",
    "papermill": {
     "duration": 0.051401,
     "end_time": "2021-01-11T17:10:40.944953",
     "exception": false,
     "start_time": "2021-01-11T17:10:40.893552",
     "status": "completed"
    },
    "tags": []
   },
   "outputs": [
    {
     "data": {
      "text/plain": [
       "array([[ 7, 14, 13],\n",
       "       [ 0, 17,  4],\n",
       "       [ 2,  3, 11]])"
      ]
     },
     "execution_count": 10,
     "metadata": {},
     "output_type": "execute_result"
    }
   ],
   "source": [
    "np.random.randint(0, 20, (3, 3)) # Create a 3x3 array of random integers in the interval [0, 20]"
   ]
  },
  {
   "cell_type": "markdown",
   "metadata": {
    "id": "TsSwNDUx9I_O"
   },
   "source": [
    "### EXERCISE: Create 10 equal intervals between 30 to 90.\n",
    "Hint: Which NumPy method can be used to divide a range into buckets?"
   ]
  },
  {
   "cell_type": "code",
   "execution_count": 11,
   "metadata": {
    "colab": {
     "base_uri": "https://localhost:8080/"
    },
    "id": "v4nFk8ZR9I_P",
    "outputId": "4ce911a3-e4e9-48e3-fb0b-71ab9fc0a4a4"
   },
   "outputs": [
    {
     "data": {
      "text/plain": [
       "array([30.        , 36.66666667, 43.33333333, 50.        , 56.66666667,\n",
       "       63.33333333, 70.        , 76.66666667, 83.33333333, 90.        ])"
      ]
     },
     "execution_count": 11,
     "metadata": {},
     "output_type": "execute_result"
    }
   ],
   "source": [
    "# enter code here\n",
    "np.linspace(30, 90, 10)"
   ]
  },
  {
   "cell_type": "markdown",
   "metadata": {
    "id": "5I6WG1jq9I_P"
   },
   "source": [
    "### EXERCISE: Create a numpy array of random integers between 40 to 200, containing 6 rows and 2 columns. "
   ]
  },
  {
   "cell_type": "code",
   "execution_count": 12,
   "metadata": {
    "colab": {
     "base_uri": "https://localhost:8080/"
    },
    "id": "T435DCwD9I_P",
    "outputId": "3ce09e17-c445-4e26-8c2c-30e14a7186ce"
   },
   "outputs": [
    {
     "data": {
      "text/plain": [
       "array([[ 74, 199],\n",
       "       [ 82, 121],\n",
       "       [134,  57],\n",
       "       [126,  92],\n",
       "       [ 77, 158],\n",
       "       [121, 167]])"
      ]
     },
     "execution_count": 12,
     "metadata": {},
     "output_type": "execute_result"
    }
   ],
   "source": [
    "# enter code here\n",
    "arr = np.random.randint(40, 200, (6, 2))\n",
    "arr"
   ]
  },
  {
   "cell_type": "markdown",
   "metadata": {
    "id": "GtRbz1Na9I_Q",
    "papermill": {
     "duration": 0.041696,
     "end_time": "2021-01-11T17:10:41.029269",
     "exception": false,
     "start_time": "2021-01-11T17:10:40.987573",
     "status": "completed"
    },
    "tags": []
   },
   "source": [
    "Let's go ahead and do some more operations using NumPy.\n",
    "\n",
    "First let us have a look at the random.randn module. \n",
    "\n",
    "The __randn__ function returns an array containing values (or \"samples\") from a standard normal distribution.\n",
    "\n",
    "* __np.random.randn(shape)__\n",
    "\n",
    "__NOTE:__ Shape is not a tuple here (unlike some other NumPy methods) but simply comma separated integer values. "
   ]
  },
  {
   "cell_type": "code",
   "execution_count": 13,
   "metadata": {
    "colab": {
     "base_uri": "https://localhost:8080/"
    },
    "id": "CgfwiGBg9I_Q",
    "outputId": "272d7ac4-1034-40c3-9877-084c331f99b1"
   },
   "outputs": [
    {
     "data": {
      "text/plain": [
       "array([[ 1.8432076 ,  0.07061936, -1.16431943, -1.85956952],\n",
       "       [-1.12864626,  2.00265813, -0.98996977,  0.59976545],\n",
       "       [ 0.38845348, -0.44987186, -1.091848  ,  2.17784094]])"
      ]
     },
     "execution_count": 13,
     "metadata": {},
     "output_type": "execute_result"
    }
   ],
   "source": [
    "a = np.random.randn(3,4)\n",
    "a"
   ]
  },
  {
   "cell_type": "markdown",
   "metadata": {
    "id": "Y5J09RR-9I_R"
   },
   "source": [
    "### EXERCISE: Create a vector ex_mat1 of 10 elements with random samples from the normal distribution."
   ]
  },
  {
   "cell_type": "code",
   "execution_count": 14,
   "metadata": {
    "colab": {
     "base_uri": "https://localhost:8080/"
    },
    "id": "F3ru3jmF9I_R",
    "outputId": "90ec6f77-b24d-4c84-ce18-702b2afabfd7"
   },
   "outputs": [
    {
     "data": {
      "text/plain": [
       "array([-0.34106478, -0.97428149,  2.23551528,  0.30649053, -0.15943794,\n",
       "       -0.40673369, -1.47206916, -0.84231794, -0.60127786, -0.98229354])"
      ]
     },
     "execution_count": 14,
     "metadata": {},
     "output_type": "execute_result"
    }
   ],
   "source": [
    "# write code here\n",
    "ex_mat1 = np.random.randn(10,) \n",
    "ex_mat1"
   ]
  },
  {
   "cell_type": "markdown",
   "metadata": {
    "id": "NG_HO5IM9I_R"
   },
   "source": [
    "### EXERCISE: Create a matrix ex_mat2 (2 rows, 3 cols) with random values from the normal distribution.\n",
    "\n"
   ]
  },
  {
   "cell_type": "code",
   "execution_count": 15,
   "metadata": {
    "colab": {
     "base_uri": "https://localhost:8080/"
    },
    "execution": {
     "iopub.execute_input": "2021-01-11T17:10:41.118458Z",
     "iopub.status.busy": "2021-01-11T17:10:41.117783Z",
     "iopub.status.idle": "2021-01-11T17:10:41.120798Z",
     "shell.execute_reply": "2021-01-11T17:10:41.120297Z"
    },
    "id": "S0RrhNkr9I_R",
    "outputId": "493c99a1-48c7-4568-c743-e1fb7ce34905",
    "papermill": {
     "duration": 0.050505,
     "end_time": "2021-01-11T17:10:41.120896",
     "exception": false,
     "start_time": "2021-01-11T17:10:41.070391",
     "status": "completed"
    },
    "tags": []
   },
   "outputs": [
    {
     "data": {
      "text/plain": [
       "array([[-0.06233964,  0.61194652,  1.627512  ],\n",
       "       [-0.33357015, -0.50385881, -0.8440918 ]])"
      ]
     },
     "execution_count": 15,
     "metadata": {},
     "output_type": "execute_result"
    }
   ],
   "source": [
    "# write code here\n",
    "ex_mat2 = np.random.randn(2, 3) \n",
    "ex_mat2"
   ]
  },
  {
   "cell_type": "markdown",
   "metadata": {
    "id": "hY1QF1ZKrBF1"
   },
   "source": [
    "Now, let us define 2 more matrices x1 and x2."
   ]
  },
  {
   "cell_type": "code",
   "execution_count": 16,
   "metadata": {
    "colab": {
     "base_uri": "https://localhost:8080/"
    },
    "id": "iRywnMYxrFos",
    "outputId": "90643c96-0d5f-4d62-8486-380b4c94ff33"
   },
   "outputs": [
    {
     "data": {
      "text/plain": [
       "(array([[67, 52,  8,  7, 85],\n",
       "        [24, 62, 37, 51, 50],\n",
       "        [91, 61, 51, 43, 32],\n",
       "        [77,  1, 84, 37,  0]]),\n",
       " array([0.14849106, 0.67659162, 0.35954891, 0.57190777, 0.97506521,\n",
       "        0.77076408, 0.03141305, 0.35354714, 0.94116173, 0.34906649]))"
      ]
     },
     "execution_count": 16,
     "metadata": {},
     "output_type": "execute_result"
    }
   ],
   "source": [
    "x1 = np.random.randint(0, 100, (4,5))\n",
    "x2 = np.random.rand(10)\n",
    "x1, x2"
   ]
  },
  {
   "cell_type": "markdown",
   "metadata": {
    "id": "NZKUS9VX9I_S",
    "papermill": {
     "duration": 0.043308,
     "end_time": "2021-01-11T17:10:41.206828",
     "exception": false,
     "start_time": "2021-01-11T17:10:41.163520",
     "status": "completed"
    },
    "tags": []
   },
   "source": [
    "We will use the above defined x1 and x2 and use them to understand methods like 'ndim', 'shape' and 'size"
   ]
  },
  {
   "cell_type": "code",
   "execution_count": 17,
   "metadata": {
    "colab": {
     "base_uri": "https://localhost:8080/"
    },
    "execution": {
     "iopub.execute_input": "2021-01-11T17:10:41.293576Z",
     "iopub.status.busy": "2021-01-11T17:10:41.292744Z",
     "iopub.status.idle": "2021-01-11T17:10:41.300040Z",
     "shell.execute_reply": "2021-01-11T17:10:41.299511Z"
    },
    "id": "d66it0_B9I_S",
    "outputId": "969c27cd-6360-4260-f99d-ea5b71a27ddf",
    "papermill": {
     "duration": 0.051226,
     "end_time": "2021-01-11T17:10:41.300148",
     "exception": false,
     "start_time": "2021-01-11T17:10:41.248922",
     "status": "completed"
    },
    "tags": []
   },
   "outputs": [
    {
     "name": "stdout",
     "output_type": "stream",
     "text": [
      "Dimensions of x2 are: 1\n",
      "Shape of x2 is: (10,)\n",
      "Size of x2 is: 20\n",
      "The data type of x2 is: float64\n"
     ]
    }
   ],
   "source": [
    "print(\"Dimensions of x2 are:\",x2.ndim) # number of dimensions\n",
    "\n",
    "print(\"Shape of x2 is:\",x2.shape) # shape of the array\n",
    "\n",
    "print(\"Size of x2 is:\",x1.size) # number of elements in the array\n",
    "\n",
    "print(\"The data type of x2 is:\",x2.dtype) # data-type of elements in the array"
   ]
  },
  {
   "cell_type": "markdown",
   "metadata": {
    "id": "8Iz6SbuO9I_S",
    "papermill": {
     "duration": 0.041552,
     "end_time": "2021-01-11T17:10:41.383053",
     "exception": false,
     "start_time": "2021-01-11T17:10:41.341501",
     "status": "completed"
    },
    "tags": []
   },
   "source": [
    "Now that we know some basic operations, let's take a look at a very important topic - Indexing!\n",
    "\n",
    "Let's use the arrays x1 and x2 for this as well"
   ]
  },
  {
   "cell_type": "code",
   "execution_count": 18,
   "metadata": {
    "colab": {
     "base_uri": "https://localhost:8080/"
    },
    "execution": {
     "iopub.execute_input": "2021-01-11T17:10:41.471144Z",
     "iopub.status.busy": "2021-01-11T17:10:41.470517Z",
     "iopub.status.idle": "2021-01-11T17:10:41.474205Z",
     "shell.execute_reply": "2021-01-11T17:10:41.473686Z"
    },
    "id": "vnweWa9Y9I_S",
    "outputId": "3f92b32d-f979-4c9a-8088-5fdfdfd660f4",
    "papermill": {
     "duration": 0.049786,
     "end_time": "2021-01-11T17:10:41.474299",
     "exception": false,
     "start_time": "2021-01-11T17:10:41.424513",
     "status": "completed"
    },
    "tags": []
   },
   "outputs": [
    {
     "data": {
      "text/plain": [
       "array([[67, 52,  8,  7, 85],\n",
       "       [24, 62, 37, 51, 50],\n",
       "       [91, 61, 51, 43, 32],\n",
       "       [77,  1, 84, 37,  0]])"
      ]
     },
     "execution_count": 18,
     "metadata": {},
     "output_type": "execute_result"
    }
   ],
   "source": [
    "x1 "
   ]
  },
  {
   "cell_type": "code",
   "execution_count": 19,
   "metadata": {
    "colab": {
     "base_uri": "https://localhost:8080/"
    },
    "execution": {
     "iopub.execute_input": "2021-01-11T17:10:41.562954Z",
     "iopub.status.busy": "2021-01-11T17:10:41.561989Z",
     "iopub.status.idle": "2021-01-11T17:10:41.565470Z",
     "shell.execute_reply": "2021-01-11T17:10:41.565934Z"
    },
    "id": "3UbnryU39I_T",
    "outputId": "22cb092c-48b4-4254-afa3-4725cc360e48",
    "papermill": {
     "duration": 0.050203,
     "end_time": "2021-01-11T17:10:41.566069",
     "exception": false,
     "start_time": "2021-01-11T17:10:41.515866",
     "status": "completed"
    },
    "tags": []
   },
   "outputs": [
    {
     "data": {
      "text/plain": [
       "array([0.14849106, 0.67659162, 0.35954891, 0.57190777, 0.97506521,\n",
       "       0.77076408, 0.03141305, 0.35354714, 0.94116173, 0.34906649])"
      ]
     },
     "execution_count": 19,
     "metadata": {},
     "output_type": "execute_result"
    }
   ],
   "source": [
    "x2 "
   ]
  },
  {
   "cell_type": "markdown",
   "metadata": {
    "id": "VJzjFDrG9I_T",
    "papermill": {
     "duration": 0.042092,
     "end_time": "2021-01-11T17:10:41.650033",
     "exception": false,
     "start_time": "2021-01-11T17:10:41.607941",
     "status": "completed"
    },
    "tags": []
   },
   "source": [
    "The indexing starts from 0 so when say we want the element at the 0th position, we are trying to access the very first element in the array."
   ]
  },
  {
   "cell_type": "code",
   "execution_count": 20,
   "metadata": {
    "colab": {
     "base_uri": "https://localhost:8080/"
    },
    "execution": {
     "iopub.execute_input": "2021-01-11T17:10:41.741978Z",
     "iopub.status.busy": "2021-01-11T17:10:41.741044Z",
     "iopub.status.idle": "2021-01-11T17:10:41.749881Z",
     "shell.execute_reply": "2021-01-11T17:10:41.749118Z"
    },
    "id": "2eSENKcR9I_T",
    "outputId": "7ceaa747-8732-47ab-a390-3cb82c8ae70f",
    "papermill": {
     "duration": 0.055766,
     "end_time": "2021-01-11T17:10:41.750011",
     "exception": false,
     "start_time": "2021-01-11T17:10:41.694245",
     "status": "completed"
    },
    "tags": []
   },
   "outputs": [
    {
     "name": "stdout",
     "output_type": "stream",
     "text": [
      "The first element of x2 is: 0.1484910589935765\n",
      "The second element of x2 is: 0.6765916164267335\n",
      "The element at the position (0,0) of x1 is: 67\n",
      "The element at the position (3,3) of x1 is: 51\n"
     ]
    }
   ],
   "source": [
    "print(\"The first element of x2 is:\", x2[0])\n",
    "\n",
    "print(\"The second element of x2 is:\", x2[1])\n",
    "\n",
    "print(\"The element at the position (0,0) of x1 is:\", x1[0,0])\n",
    "\n",
    "print(\"The element at the position (3,3) of x1 is:\", x1[2,2])"
   ]
  },
  {
   "cell_type": "markdown",
   "metadata": {
    "id": "FaLAIUqb9I_T",
    "papermill": {
     "duration": 0.04416,
     "end_time": "2021-01-11T17:10:41.839296",
     "exception": false,
     "start_time": "2021-01-11T17:10:41.795136",
     "status": "completed"
    },
    "tags": []
   },
   "source": [
    "Now, let us assume that we want the print the last element of an array, however the catch here is that we don't know the length of the array. \n",
    "\n",
    "In NumPy arrays, just like Python lists, indexing from the end starts from index value __-1__. That is, _arr[-1]_ will print the last element of the numpy array _arr_, _arr[-2]_ will print second last element of arr, so on and so forth. "
   ]
  },
  {
   "cell_type": "code",
   "execution_count": 21,
   "metadata": {
    "colab": {
     "base_uri": "https://localhost:8080/"
    },
    "id": "7w5Oqcr09I_T",
    "outputId": "5c854a09-a42e-4b0c-b0df-1715b826ec6d"
   },
   "outputs": [
    {
     "data": {
      "text/plain": [
       "0.34906649107338417"
      ]
     },
     "execution_count": 21,
     "metadata": {},
     "output_type": "execute_result"
    }
   ],
   "source": [
    "# printing last element of array x2\n",
    "x2[-1]"
   ]
  },
  {
   "cell_type": "markdown",
   "metadata": {
    "id": "G7201bft9I_U"
   },
   "source": [
    "### EXERCISE: Print the second last element in the last row of x1."
   ]
  },
  {
   "cell_type": "code",
   "execution_count": 22,
   "metadata": {
    "colab": {
     "base_uri": "https://localhost:8080/"
    },
    "id": "wbBHCpDz9I_U",
    "outputId": "946c0c35-1115-4562-8fb0-907ebc287c7d"
   },
   "outputs": [
    {
     "data": {
      "text/plain": [
       "37"
      ]
     },
     "execution_count": 22,
     "metadata": {},
     "output_type": "execute_result"
    }
   ],
   "source": [
    "# enter code here\n",
    "x1[-1, -2]"
   ]
  },
  {
   "cell_type": "markdown",
   "metadata": {
    "id": "L4eaJ_px9I_U",
    "papermill": {
     "duration": 0.044089,
     "end_time": "2021-01-11T17:10:42.026314",
     "exception": false,
     "start_time": "2021-01-11T17:10:41.982225",
     "status": "completed"
    },
    "tags": []
   },
   "source": [
    "We can use these indices to even change the values of elements in our array. We will change the first element in row 1 of the array x1 to over 9000."
   ]
  },
  {
   "cell_type": "code",
   "execution_count": 23,
   "metadata": {
    "colab": {
     "base_uri": "https://localhost:8080/"
    },
    "execution": {
     "iopub.execute_input": "2021-01-11T17:10:42.119993Z",
     "iopub.status.busy": "2021-01-11T17:10:42.119348Z",
     "iopub.status.idle": "2021-01-11T17:10:42.122984Z",
     "shell.execute_reply": "2021-01-11T17:10:42.122429Z"
    },
    "id": "R7vyyPcu9I_U",
    "outputId": "64122201-d69b-4d67-adb9-3490209b5afa",
    "papermill": {
     "duration": 0.053091,
     "end_time": "2021-01-11T17:10:42.123083",
     "exception": false,
     "start_time": "2021-01-11T17:10:42.069992",
     "status": "completed"
    },
    "tags": []
   },
   "outputs": [
    {
     "data": {
      "text/plain": [
       "array([[9001,   52,    8,    7,   85],\n",
       "       [  24,   62,   37,   51,   50],\n",
       "       [  91,   61,   51,   43,   32],\n",
       "       [  77,    1,   84,   37,    0]])"
      ]
     },
     "execution_count": 23,
     "metadata": {},
     "output_type": "execute_result"
    }
   ],
   "source": [
    "x1[0, 0] = 9001\n",
    "x1"
   ]
  },
  {
   "cell_type": "markdown",
   "metadata": {
    "id": "HK89VR3g9I_U"
   },
   "source": [
    "### EXERCISE: Set the 4th element in x2 as 351 and print the result."
   ]
  },
  {
   "cell_type": "code",
   "execution_count": 24,
   "metadata": {
    "colab": {
     "base_uri": "https://localhost:8080/"
    },
    "execution": {
     "iopub.execute_input": "2021-01-11T17:10:42.217930Z",
     "iopub.status.busy": "2021-01-11T17:10:42.217302Z",
     "iopub.status.idle": "2021-01-11T17:10:42.220607Z",
     "shell.execute_reply": "2021-01-11T17:10:42.220084Z"
    },
    "id": "3JyDastO9I_V",
    "outputId": "4038fbc9-2444-4f4d-eed3-96ff4bf97c02",
    "papermill": {
     "duration": 0.052434,
     "end_time": "2021-01-11T17:10:42.220706",
     "exception": false,
     "start_time": "2021-01-11T17:10:42.168272",
     "status": "completed"
    },
    "tags": []
   },
   "outputs": [
    {
     "data": {
      "text/plain": [
       "array([1.48491059e-01, 6.76591616e-01, 3.59548908e-01, 3.51000000e+02,\n",
       "       9.75065215e-01, 7.70764082e-01, 3.14130486e-02, 3.53547135e-01,\n",
       "       9.41161729e-01, 3.49066491e-01])"
      ]
     },
     "execution_count": 24,
     "metadata": {},
     "output_type": "execute_result"
    }
   ],
   "source": [
    "# enter code here\n",
    "x2[3] = 351\n",
    "x2"
   ]
  },
  {
   "cell_type": "markdown",
   "metadata": {
    "id": "ZAH1efKC9I_V",
    "papermill": {
     "duration": 0.045093,
     "end_time": "2021-01-11T17:10:42.315563",
     "exception": false,
     "start_time": "2021-01-11T17:10:42.270470",
     "status": "completed"
    },
    "tags": []
   },
   "source": [
    "Next up, we will see how array slicing works. We can use our x1 and x2 to learn about array slicing as well."
   ]
  },
  {
   "cell_type": "code",
   "execution_count": 25,
   "metadata": {
    "colab": {
     "base_uri": "https://localhost:8080/"
    },
    "execution": {
     "iopub.execute_input": "2021-01-11T17:10:42.411036Z",
     "iopub.status.busy": "2021-01-11T17:10:42.410433Z",
     "iopub.status.idle": "2021-01-11T17:10:42.413173Z",
     "shell.execute_reply": "2021-01-11T17:10:42.413724Z"
    },
    "id": "nC5ng_Xw9I_V",
    "outputId": "13dba44c-e9c6-41ac-b926-54fdb2acabaa",
    "papermill": {
     "duration": 0.053775,
     "end_time": "2021-01-11T17:10:42.413843",
     "exception": false,
     "start_time": "2021-01-11T17:10:42.360068",
     "status": "completed"
    },
    "tags": []
   },
   "outputs": [
    {
     "data": {
      "text/plain": [
       "array([1.48491059e-01, 6.76591616e-01, 3.59548908e-01, 3.51000000e+02,\n",
       "       9.75065215e-01])"
      ]
     },
     "execution_count": 25,
     "metadata": {},
     "output_type": "execute_result"
    }
   ],
   "source": [
    "x2[0:5] # this gives us the first 5 elements in our array "
   ]
  },
  {
   "cell_type": "markdown",
   "metadata": {
    "id": "oC7fuzyTxbjC"
   },
   "source": [
    "This can also be written as:"
   ]
  },
  {
   "cell_type": "code",
   "execution_count": 26,
   "metadata": {
    "colab": {
     "base_uri": "https://localhost:8080/"
    },
    "id": "mFtuHSFlxfiL",
    "outputId": "35df972c-87e8-4a14-fffa-67d68c330071"
   },
   "outputs": [
    {
     "data": {
      "text/plain": [
       "array([1.48491059e-01, 6.76591616e-01, 3.59548908e-01, 3.51000000e+02,\n",
       "       9.75065215e-01])"
      ]
     },
     "execution_count": 26,
     "metadata": {},
     "output_type": "execute_result"
    }
   ],
   "source": [
    "x2[:5]"
   ]
  },
  {
   "cell_type": "code",
   "execution_count": 27,
   "metadata": {
    "colab": {
     "base_uri": "https://localhost:8080/"
    },
    "execution": {
     "iopub.execute_input": "2021-01-11T17:10:42.508795Z",
     "iopub.status.busy": "2021-01-11T17:10:42.508257Z",
     "iopub.status.idle": "2021-01-11T17:10:42.512714Z",
     "shell.execute_reply": "2021-01-11T17:10:42.513251Z"
    },
    "id": "BIAHW2Nw9I_V",
    "outputId": "8a3151e6-4f2b-4f36-dfa6-575bf04602e7",
    "papermill": {
     "duration": 0.05313,
     "end_time": "2021-01-11T17:10:42.513370",
     "exception": false,
     "start_time": "2021-01-11T17:10:42.460240",
     "status": "completed"
    },
    "tags": []
   },
   "outputs": [
    {
     "data": {
      "text/plain": [
       "array([0.14849106, 0.35954891, 0.97506521, 0.03141305, 0.94116173])"
      ]
     },
     "execution_count": 27,
     "metadata": {},
     "output_type": "execute_result"
    }
   ],
   "source": [
    "x2[::2] # gives us every other element in our array"
   ]
  },
  {
   "cell_type": "code",
   "execution_count": 28,
   "metadata": {
    "colab": {
     "base_uri": "https://localhost:8080/"
    },
    "execution": {
     "iopub.execute_input": "2021-01-11T17:10:42.612441Z",
     "iopub.status.busy": "2021-01-11T17:10:42.611826Z",
     "iopub.status.idle": "2021-01-11T17:10:42.616801Z",
     "shell.execute_reply": "2021-01-11T17:10:42.617395Z"
    },
    "id": "ITHJph7j9I_V",
    "outputId": "8812ee88-6205-4366-dae0-22f3c76735c6",
    "papermill": {
     "duration": 0.055814,
     "end_time": "2021-01-11T17:10:42.617536",
     "exception": false,
     "start_time": "2021-01-11T17:10:42.561722",
     "status": "completed"
    },
    "tags": []
   },
   "outputs": [
    {
     "data": {
      "text/plain": [
       "array([3.49066491e-01, 9.41161729e-01, 3.53547135e-01, 3.14130486e-02,\n",
       "       7.70764082e-01, 9.75065215e-01, 3.51000000e+02, 3.59548908e-01,\n",
       "       6.76591616e-01, 1.48491059e-01])"
      ]
     },
     "execution_count": 28,
     "metadata": {},
     "output_type": "execute_result"
    }
   ],
   "source": [
    "x2[::-1] # reverses the whole array for us"
   ]
  },
  {
   "cell_type": "markdown",
   "metadata": {
    "id": "N4L3TMZN9I_V",
    "papermill": {
     "duration": 0.049171,
     "end_time": "2021-01-11T17:10:42.715878",
     "exception": false,
     "start_time": "2021-01-11T17:10:42.666707",
     "status": "completed"
    },
    "tags": []
   },
   "source": [
    "Let's try the same with multi-dimensional arrays"
   ]
  },
  {
   "cell_type": "code",
   "execution_count": 29,
   "metadata": {
    "colab": {
     "base_uri": "https://localhost:8080/"
    },
    "execution": {
     "iopub.execute_input": "2021-01-11T17:10:42.833322Z",
     "iopub.status.busy": "2021-01-11T17:10:42.832708Z",
     "iopub.status.idle": "2021-01-11T17:10:42.838945Z",
     "shell.execute_reply": "2021-01-11T17:10:42.839516Z"
    },
    "id": "vvc--ToP9I_V",
    "outputId": "15b57238-f1b0-4d4e-decb-73723c738b13",
    "papermill": {
     "duration": 0.071235,
     "end_time": "2021-01-11T17:10:42.839659",
     "exception": false,
     "start_time": "2021-01-11T17:10:42.768424",
     "status": "completed"
    },
    "tags": []
   },
   "outputs": [
    {
     "data": {
      "text/plain": [
       "array([9001,   24,   91,   77])"
      ]
     },
     "execution_count": 29,
     "metadata": {},
     "output_type": "execute_result"
    }
   ],
   "source": [
    "x1[:, 0]  # retrieve the first column"
   ]
  },
  {
   "cell_type": "code",
   "execution_count": 30,
   "metadata": {
    "colab": {
     "base_uri": "https://localhost:8080/"
    },
    "execution": {
     "iopub.execute_input": "2021-01-11T17:10:42.945944Z",
     "iopub.status.busy": "2021-01-11T17:10:42.945372Z",
     "iopub.status.idle": "2021-01-11T17:10:42.952618Z",
     "shell.execute_reply": "2021-01-11T17:10:42.953170Z"
    },
    "id": "7eSUKJUV9I_W",
    "outputId": "de0b9487-cccb-4792-f1fe-31465b3c22e7",
    "papermill": {
     "duration": 0.063009,
     "end_time": "2021-01-11T17:10:42.953291",
     "exception": false,
     "start_time": "2021-01-11T17:10:42.890282",
     "status": "completed"
    },
    "tags": []
   },
   "outputs": [
    {
     "name": "stdout",
     "output_type": "stream",
     "text": [
      "[[9001   52]\n",
      " [  24   62]\n",
      " [  91   61]\n",
      " [  77    1]]\n",
      "[1.48491059e-01 6.76591616e-01 3.59548908e-01 3.51000000e+02\n",
      " 9.75065215e-01 7.70764082e-01 3.14130486e-02 3.53547135e-01\n",
      " 9.41161729e-01 3.49066491e-01]\n",
      "[77  1 84 37  0]\n"
     ]
    }
   ],
   "source": [
    "print(x1[:, :2]) # retrieving the first 2 columns\n",
    "\n",
    "print(x2[:]) # gives us all the elements in the array x2\n",
    "\n",
    "print(x1[-1, :])"
   ]
  },
  {
   "cell_type": "markdown",
   "metadata": {
    "id": "CIp_kXbG9I_W"
   },
   "source": [
    "### EXERCISE: Make two new numpy arrays y1 and y2 with random integer values of length 10. Then add reverse of y1 to reverse of y2"
   ]
  },
  {
   "cell_type": "code",
   "execution_count": 31,
   "metadata": {
    "colab": {
     "base_uri": "https://localhost:8080/"
    },
    "id": "q588qDKN9I_X",
    "outputId": "1ab9b1c6-db43-4bf8-b843-814b1b2b592d"
   },
   "outputs": [
    {
     "data": {
      "text/plain": [
       "array([ 75,  60, 104,  42,  91, 143,  95, 145, 116, 115])"
      ]
     },
     "execution_count": 31,
     "metadata": {},
     "output_type": "execute_result"
    }
   ],
   "source": [
    "# enter code here\n",
    "y1 = np.random.randint(0, 100, 10)\n",
    "y2 = np.random.randint(0, 100, 10)\n",
    "y1 = y1[::-1]\n",
    "y2 = y2[::-1]\n",
    "y1 + y2"
   ]
  },
  {
   "cell_type": "markdown",
   "metadata": {
    "id": "M0Av7-NQ9I_X",
    "papermill": {
     "duration": 0.062145,
     "end_time": "2021-01-11T17:10:43.068666",
     "exception": false,
     "start_time": "2021-01-11T17:10:43.006521",
     "status": "completed"
    },
    "tags": []
   },
   "source": [
    "Now we will take a look at __reshape__. The reshape method allows us to modify (or view a mutated view of the array values, to be more precise) the shape of a NumPy array once it has been declared."
   ]
  },
  {
   "cell_type": "code",
   "execution_count": 32,
   "metadata": {
    "colab": {
     "base_uri": "https://localhost:8080/"
    },
    "execution": {
     "iopub.execute_input": "2021-01-11T17:10:43.170019Z",
     "iopub.status.busy": "2021-01-11T17:10:43.169522Z",
     "iopub.status.idle": "2021-01-11T17:10:43.173832Z",
     "shell.execute_reply": "2021-01-11T17:10:43.174283Z"
    },
    "id": "eCLooRmy9I_X",
    "outputId": "4e90dc24-ecf3-4cf9-dc08-5cdd8d6221ed",
    "papermill": {
     "duration": 0.055902,
     "end_time": "2021-01-11T17:10:43.174411",
     "exception": false,
     "start_time": "2021-01-11T17:10:43.118509",
     "status": "completed"
    },
    "tags": []
   },
   "outputs": [
    {
     "data": {
      "text/plain": [
       "(9,)"
      ]
     },
     "execution_count": 32,
     "metadata": {},
     "output_type": "execute_result"
    }
   ],
   "source": [
    "arr = np.array([10,20,30,40,50,60,70,80,90])\n",
    "arr.shape"
   ]
  },
  {
   "cell_type": "code",
   "execution_count": 33,
   "metadata": {
    "colab": {
     "base_uri": "https://localhost:8080/"
    },
    "execution": {
     "iopub.execute_input": "2021-01-11T17:10:43.276709Z",
     "iopub.status.busy": "2021-01-11T17:10:43.275989Z",
     "iopub.status.idle": "2021-01-11T17:10:43.279059Z",
     "shell.execute_reply": "2021-01-11T17:10:43.279579Z"
    },
    "id": "L0hPCayw9I_X",
    "outputId": "786b3090-476c-4293-9a35-f037c740a161",
    "papermill": {
     "duration": 0.057884,
     "end_time": "2021-01-11T17:10:43.279706",
     "exception": false,
     "start_time": "2021-01-11T17:10:43.221822",
     "status": "completed"
    },
    "tags": []
   },
   "outputs": [
    {
     "data": {
      "text/plain": [
       "array([[10, 20, 30],\n",
       "       [40, 50, 60],\n",
       "       [70, 80, 90]])"
      ]
     },
     "execution_count": 33,
     "metadata": {},
     "output_type": "execute_result"
    }
   ],
   "source": [
    "arr.reshape((3, 3))"
   ]
  },
  {
   "cell_type": "markdown",
   "metadata": {
    "id": "1TD9BDB19I_Y",
    "papermill": {
     "duration": 0.050268,
     "end_time": "2021-01-11T17:10:43.378004",
     "exception": false,
     "start_time": "2021-01-11T17:10:43.327736",
     "status": "completed"
    },
    "tags": []
   },
   "source": [
    "So we defined a one dimensional array first and then converted it into a 2d array using reshape. This also can be done using __newaxis__ method but reshape works just fine and is kind of more self-explanatory.\n",
    "\n",
    "Now, let us have a look at how to concatenate two arrays."
   ]
  },
  {
   "cell_type": "code",
   "execution_count": 34,
   "metadata": {
    "colab": {
     "base_uri": "https://localhost:8080/"
    },
    "execution": {
     "iopub.execute_input": "2021-01-11T17:10:43.482717Z",
     "iopub.status.busy": "2021-01-11T17:10:43.481901Z",
     "iopub.status.idle": "2021-01-11T17:10:43.488585Z",
     "shell.execute_reply": "2021-01-11T17:10:43.489125Z"
    },
    "id": "N8LFkFhW9I_Y",
    "outputId": "7b2ba3be-aef6-46c6-8f2f-f452dc61728d",
    "papermill": {
     "duration": 0.062705,
     "end_time": "2021-01-11T17:10:43.489262",
     "exception": false,
     "start_time": "2021-01-11T17:10:43.426557",
     "status": "completed"
    },
    "tags": []
   },
   "outputs": [
    {
     "data": {
      "text/plain": [
       "array([1, 2, 3, 4, 5, 4, 5, 6, 7, 8])"
      ]
     },
     "execution_count": 34,
     "metadata": {},
     "output_type": "execute_result"
    }
   ],
   "source": [
    "arr1 = np.array([1, 2, 3, 4, 5])\n",
    "\n",
    "arr2 = np.array([4, 5, 6, 7, 8])\n",
    "\n",
    "np.concatenate([arr1, arr2])"
   ]
  },
  {
   "cell_type": "markdown",
   "metadata": {
    "id": "GiWepSCy9I_Y",
    "papermill": {
     "duration": 0.047092,
     "end_time": "2021-01-11T17:10:43.584297",
     "exception": false,
     "start_time": "2021-01-11T17:10:43.537205",
     "status": "completed"
    },
    "tags": []
   },
   "source": [
    "You can do the same for multi-dimensional array.\n",
    "\n",
    "__NOTE:__ The default axis for concatenation is __axis = 0__, i.e., along the row axis. In order to concatenate along the column axis, you have to specify the __axis__ argument."
   ]
  },
  {
   "cell_type": "code",
   "execution_count": 35,
   "metadata": {
    "colab": {
     "base_uri": "https://localhost:8080/"
    },
    "execution": {
     "iopub.execute_input": "2021-01-11T17:10:43.684264Z",
     "iopub.status.busy": "2021-01-11T17:10:43.683329Z",
     "iopub.status.idle": "2021-01-11T17:10:43.690459Z",
     "shell.execute_reply": "2021-01-11T17:10:43.691024Z"
    },
    "id": "mYnHkq-X9I_Y",
    "outputId": "f9b74d05-eab6-4cde-bbef-88cd1e2ae4d4",
    "papermill": {
     "duration": 0.058327,
     "end_time": "2021-01-11T17:10:43.691136",
     "exception": false,
     "start_time": "2021-01-11T17:10:43.632809",
     "status": "completed"
    },
    "tags": []
   },
   "outputs": [
    {
     "name": "stdout",
     "output_type": "stream",
     "text": [
      "[[1 2 3]\n",
      " [4 5 6]\n",
      " [6 7 8]\n",
      " [7 8 9]]\n",
      "[[1 2 3 6 7 8]\n",
      " [4 5 6 7 8 9]]\n"
     ]
    }
   ],
   "source": [
    "arr3 = np.array([[1, 2, 3],\n",
    "                 [4, 5, 6]])\n",
    "\n",
    "arr4 = np.array([[6, 7, 8],\n",
    "                 [7, 8, 9]])\n",
    "\n",
    "print(np.concatenate([arr3, arr4])) # default axis = 0\n",
    "\n",
    "print(np.concatenate([arr3, arr4], axis=1)) # concatenation along column axis\n"
   ]
  },
  {
   "cell_type": "markdown",
   "metadata": {
    "id": "QNp74Ddc9I_Z"
   },
   "source": [
    "### EXERCISE : Make two multidimensional arrays a1 of shape(5, 2) , a2 of shape(5, 2) and concatenate them along the column axis.  "
   ]
  },
  {
   "cell_type": "code",
   "execution_count": 36,
   "metadata": {
    "colab": {
     "base_uri": "https://localhost:8080/"
    },
    "id": "HTS2T-OQ9I_Z",
    "outputId": "0bae09ff-186c-4500-8421-e95440663fa2"
   },
   "outputs": [
    {
     "name": "stdout",
     "output_type": "stream",
     "text": [
      "[[ 0.51685472 -0.83115289]\n",
      " [-0.29009033 -0.9597636 ]\n",
      " [ 0.17133934  0.39655519]\n",
      " [ 1.10333507  1.66704951]\n",
      " [ 1.54009626 -0.02397053]]\n",
      "[[ 0.33559679  1.58514371]\n",
      " [-0.57283218 -0.01014035]\n",
      " [-0.13652998  0.92207799]\n",
      " [ 0.26146463 -0.51571265]\n",
      " [ 0.49921506  1.37966675]]\n"
     ]
    },
    {
     "data": {
      "text/plain": [
       "array([[ 0.51685472, -0.83115289,  0.33559679,  1.58514371],\n",
       "       [-0.29009033, -0.9597636 , -0.57283218, -0.01014035],\n",
       "       [ 0.17133934,  0.39655519, -0.13652998,  0.92207799],\n",
       "       [ 1.10333507,  1.66704951,  0.26146463, -0.51571265],\n",
       "       [ 1.54009626, -0.02397053,  0.49921506,  1.37966675]])"
      ]
     },
     "execution_count": 36,
     "metadata": {},
     "output_type": "execute_result"
    }
   ],
   "source": [
    "# enter code here\n",
    "a1 = np.random.randn(5, 2)\n",
    "print(a1)\n",
    "a2 = np.random.randn(5, 2)\n",
    "print(a2)\n",
    "np.concatenate([a1, a2], axis=1)"
   ]
  },
  {
   "cell_type": "markdown",
   "metadata": {
    "id": "Utd0PYLs9I_Z",
    "papermill": {
     "duration": 0.048385,
     "end_time": "2021-01-11T17:10:43.787771",
     "exception": false,
     "start_time": "2021-01-11T17:10:43.739386",
     "status": "completed"
    },
    "tags": []
   },
   "source": [
    "Now let us have a look at some other aggregation methods in NumPy."
   ]
  },
  {
   "cell_type": "code",
   "execution_count": 37,
   "metadata": {
    "colab": {
     "base_uri": "https://localhost:8080/"
    },
    "execution": {
     "iopub.execute_input": "2021-01-11T17:10:43.888526Z",
     "iopub.status.busy": "2021-01-11T17:10:43.887571Z",
     "iopub.status.idle": "2021-01-11T17:10:43.895396Z",
     "shell.execute_reply": "2021-01-11T17:10:43.894856Z"
    },
    "id": "plSByak_9I_Z",
    "outputId": "855d5596-b42d-41c9-a902-fa095e7c87a1",
    "papermill": {
     "duration": 0.059395,
     "end_time": "2021-01-11T17:10:43.895487",
     "exception": false,
     "start_time": "2021-01-11T17:10:43.836092",
     "status": "completed"
    },
    "tags": []
   },
   "outputs": [
    {
     "name": "stdout",
     "output_type": "stream",
     "text": [
      "The smallest element in arr1 is: 1\n",
      "The largest element in arr1 is: 5\n",
      "The sum of all elements in arr1 is: 15\n"
     ]
    }
   ],
   "source": [
    "print(\"The smallest element in arr1 is:\", np.min(arr1))\n",
    "\n",
    "print(\"The largest element in arr1 is:\", np.max(arr1))\n",
    "\n",
    "print(\"The sum of all elements in arr1 is:\", np.sum(arr1))"
   ]
  },
  {
   "cell_type": "markdown",
   "metadata": {
    "id": "XIUivTCN9I_Z",
    "papermill": {
     "duration": 0.048901,
     "end_time": "2021-01-11T17:10:43.994547",
     "exception": false,
     "start_time": "2021-01-11T17:10:43.945646",
     "status": "completed"
    },
    "tags": []
   },
   "source": [
    "We can carry out a similar thing for multi-dimensional arrays as well."
   ]
  },
  {
   "cell_type": "code",
   "execution_count": 38,
   "metadata": {
    "colab": {
     "base_uri": "https://localhost:8080/"
    },
    "execution": {
     "iopub.execute_input": "2021-01-11T17:10:44.102598Z",
     "iopub.status.busy": "2021-01-11T17:10:44.102006Z",
     "iopub.status.idle": "2021-01-11T17:10:44.108481Z",
     "shell.execute_reply": "2021-01-11T17:10:44.109018Z"
    },
    "id": "TSypUeXN9I_Z",
    "outputId": "a625c77a-6db0-420a-e387-d0cac6cc000b",
    "papermill": {
     "duration": 0.062253,
     "end_time": "2021-01-11T17:10:44.109151",
     "exception": false,
     "start_time": "2021-01-11T17:10:44.046898",
     "status": "completed"
    },
    "tags": []
   },
   "outputs": [
    {
     "name": "stdout",
     "output_type": "stream",
     "text": [
      "The smallest element in arr3 is: 1\n",
      "The largest element in arr3 is: 6\n",
      "The sum of all elements in arr3 is: 21\n"
     ]
    }
   ],
   "source": [
    "print(\"The smallest element in arr3 is:\", np.min(arr3))\n",
    "\n",
    "print(\"The largest element in arr3 is:\", np.max(arr3))\n",
    "\n",
    "print(\"The sum of all elements in arr3 is:\", np.sum(arr3))"
   ]
  },
  {
   "cell_type": "markdown",
   "metadata": {
    "id": "IZ1lVogA9I_a"
   },
   "source": [
    "### EXERCISE : Find the maximum element in 1st row of arr3.\n",
    "Hint: Recall how to retrieve the rows in a multidimensional array using indexing."
   ]
  },
  {
   "cell_type": "code",
   "execution_count": 39,
   "metadata": {
    "colab": {
     "base_uri": "https://localhost:8080/"
    },
    "id": "ROP05y429I_a",
    "outputId": "5900c91f-fbf7-4d09-9b2c-7c92306ea6b3"
   },
   "outputs": [
    {
     "data": {
      "text/plain": [
       "3"
      ]
     },
     "execution_count": 39,
     "metadata": {},
     "output_type": "execute_result"
    }
   ],
   "source": [
    "# enter code here\n",
    "np.max(arr3[0])"
   ]
  },
  {
   "cell_type": "markdown",
   "metadata": {
    "id": "EaV8trYY9I_a",
    "papermill": {
     "duration": 0.049332,
     "end_time": "2021-01-11T17:10:44.209157",
     "exception": false,
     "start_time": "2021-01-11T17:10:44.159825",
     "status": "completed"
    },
    "tags": []
   },
   "source": [
    "Next up, we will see how does broadcasting works in NumPy."
   ]
  },
  {
   "cell_type": "code",
   "execution_count": 40,
   "metadata": {
    "colab": {
     "base_uri": "https://localhost:8080/"
    },
    "execution": {
     "iopub.execute_input": "2021-01-11T17:10:44.328012Z",
     "iopub.status.busy": "2021-01-11T17:10:44.326653Z",
     "iopub.status.idle": "2021-01-11T17:10:44.333876Z",
     "shell.execute_reply": "2021-01-11T17:10:44.334549Z"
    },
    "id": "6pmy_pbs9I_a",
    "outputId": "c1030a2c-d918-4874-fed4-920cd7a02993",
    "papermill": {
     "duration": 0.072754,
     "end_time": "2021-01-11T17:10:44.334751",
     "exception": false,
     "start_time": "2021-01-11T17:10:44.261997",
     "status": "completed"
    },
    "tags": []
   },
   "outputs": [
    {
     "data": {
      "text/plain": [
       "array([5, 7, 9])"
      ]
     },
     "execution_count": 40,
     "metadata": {},
     "output_type": "execute_result"
    }
   ],
   "source": [
    "a = np.array([1, 2, 3])\n",
    "\n",
    "b = np.array([4, 5, 6])\n",
    "\n",
    "a + b"
   ]
  },
  {
   "cell_type": "markdown",
   "metadata": {
    "id": "62ust5PG5Eiz"
   },
   "source": [
    "Adding a scalar to an array:"
   ]
  },
  {
   "cell_type": "code",
   "execution_count": 41,
   "metadata": {
    "colab": {
     "base_uri": "https://localhost:8080/"
    },
    "execution": {
     "iopub.execute_input": "2021-01-11T17:10:44.456773Z",
     "iopub.status.busy": "2021-01-11T17:10:44.456057Z",
     "iopub.status.idle": "2021-01-11T17:10:44.460494Z",
     "shell.execute_reply": "2021-01-11T17:10:44.461078Z"
    },
    "id": "WsMrLIte9I_a",
    "outputId": "0ed83511-c3e9-4862-ee15-0c1cdf618850",
    "papermill": {
     "duration": 0.061021,
     "end_time": "2021-01-11T17:10:44.461213",
     "exception": false,
     "start_time": "2021-01-11T17:10:44.400192",
     "status": "completed"
    },
    "tags": []
   },
   "outputs": [
    {
     "data": {
      "text/plain": [
       "array([6, 7, 8])"
      ]
     },
     "execution_count": 41,
     "metadata": {},
     "output_type": "execute_result"
    }
   ],
   "source": [
    "a = a + 5\n",
    "a"
   ]
  },
  {
   "cell_type": "markdown",
   "metadata": {
    "id": "n6TFV0EG5VzY"
   },
   "source": [
    "Adding arrays of different shapes:"
   ]
  },
  {
   "cell_type": "code",
   "execution_count": 42,
   "metadata": {
    "colab": {
     "base_uri": "https://localhost:8080/"
    },
    "execution": {
     "iopub.execute_input": "2021-01-11T17:10:44.667854Z",
     "iopub.status.busy": "2021-01-11T17:10:44.667187Z",
     "iopub.status.idle": "2021-01-11T17:10:44.670791Z",
     "shell.execute_reply": "2021-01-11T17:10:44.671389Z"
    },
    "id": "KCA0WWKS9I_b",
    "outputId": "ee5c66e9-443a-46dc-d86f-ee386f25a62e",
    "papermill": {
     "duration": 0.057809,
     "end_time": "2021-01-11T17:10:44.671520",
     "exception": false,
     "start_time": "2021-01-11T17:10:44.613711",
     "status": "completed"
    },
    "tags": []
   },
   "outputs": [
    {
     "name": "stdout",
     "output_type": "stream",
     "text": [
      "[[1. 1. 1.]\n",
      " [1. 1. 1.]]\n",
      "[0 1 2]\n"
     ]
    }
   ],
   "source": [
    "M = np.ones((2, 3))\n",
    "A = np.arange(3)\n",
    "\n",
    "print(M)\n",
    "print(A)"
   ]
  },
  {
   "cell_type": "code",
   "execution_count": 43,
   "metadata": {
    "colab": {
     "base_uri": "https://localhost:8080/"
    },
    "execution": {
     "iopub.execute_input": "2021-01-11T17:10:44.996035Z",
     "iopub.status.busy": "2021-01-11T17:10:44.995484Z",
     "iopub.status.idle": "2021-01-11T17:10:45.000044Z",
     "shell.execute_reply": "2021-01-11T17:10:44.999626Z"
    },
    "id": "sgEetMc49I_c",
    "outputId": "e9a4c52c-4d7c-4dcf-8354-19aacb4f9d83",
    "papermill": {
     "duration": 0.061821,
     "end_time": "2021-01-11T17:10:45.000195",
     "exception": false,
     "start_time": "2021-01-11T17:10:44.938374",
     "status": "completed"
    },
    "tags": []
   },
   "outputs": [
    {
     "data": {
      "text/plain": [
       "array([[1., 2., 3.],\n",
       "       [1., 2., 3.]])"
      ]
     },
     "execution_count": 43,
     "metadata": {},
     "output_type": "execute_result"
    }
   ],
   "source": [
    "M + A"
   ]
  },
  {
   "cell_type": "markdown",
   "metadata": {
    "id": "G3orHQaI9I_d",
    "papermill": {
     "duration": 0.052563,
     "end_time": "2021-01-11T17:10:45.104009",
     "exception": false,
     "start_time": "2021-01-11T17:10:45.051446",
     "status": "completed"
    },
    "tags": []
   },
   "source": [
    "Now, let's see how comparison operators work in NumPy."
   ]
  },
  {
   "cell_type": "code",
   "execution_count": 44,
   "metadata": {
    "colab": {
     "base_uri": "https://localhost:8080/"
    },
    "execution": {
     "iopub.execute_input": "2021-01-11T17:10:45.213887Z",
     "iopub.status.busy": "2021-01-11T17:10:45.213358Z",
     "iopub.status.idle": "2021-01-11T17:10:45.216741Z",
     "shell.execute_reply": "2021-01-11T17:10:45.216315Z"
    },
    "id": "_wHYabGO9I_d",
    "outputId": "ef5236ec-0121-414f-d948-d21e6242c72c",
    "papermill": {
     "duration": 0.059042,
     "end_time": "2021-01-11T17:10:45.216833",
     "exception": false,
     "start_time": "2021-01-11T17:10:45.157791",
     "status": "completed"
    },
    "tags": []
   },
   "outputs": [
    {
     "data": {
      "text/plain": [
       "array([6, 7, 8])"
      ]
     },
     "execution_count": 44,
     "metadata": {},
     "output_type": "execute_result"
    }
   ],
   "source": [
    "a"
   ]
  },
  {
   "cell_type": "code",
   "execution_count": 45,
   "metadata": {
    "colab": {
     "base_uri": "https://localhost:8080/"
    },
    "execution": {
     "iopub.execute_input": "2021-01-11T17:10:45.324920Z",
     "iopub.status.busy": "2021-01-11T17:10:45.324322Z",
     "iopub.status.idle": "2021-01-11T17:10:45.326885Z",
     "shell.execute_reply": "2021-01-11T17:10:45.327399Z"
    },
    "id": "MGKgthAV9I_d",
    "outputId": "60757952-bb36-4855-b4d8-8861419f3582",
    "papermill": {
     "duration": 0.058956,
     "end_time": "2021-01-11T17:10:45.327531",
     "exception": false,
     "start_time": "2021-01-11T17:10:45.268575",
     "status": "completed"
    },
    "tags": []
   },
   "outputs": [
    {
     "data": {
      "text/plain": [
       "array([ True,  True,  True])"
      ]
     },
     "execution_count": 45,
     "metadata": {},
     "output_type": "execute_result"
    }
   ],
   "source": [
    "a < 12 # compares all the elements in 'a' to see if the element is smaller than 12 and if yes it returns True or else False"
   ]
  },
  {
   "cell_type": "markdown",
   "metadata": {
    "id": "FM0c6ka19I_d",
    "papermill": {
     "duration": 0.052162,
     "end_time": "2021-01-11T17:10:45.432089",
     "exception": false,
     "start_time": "2021-01-11T17:10:45.379927",
     "status": "completed"
    },
    "tags": []
   },
   "source": [
    "Next up let's explore some fancy indexing."
   ]
  },
  {
   "cell_type": "code",
   "execution_count": 46,
   "metadata": {
    "execution": {
     "iopub.execute_input": "2021-01-11T17:10:45.540194Z",
     "iopub.status.busy": "2021-01-11T17:10:45.539626Z",
     "iopub.status.idle": "2021-01-11T17:10:45.543388Z",
     "shell.execute_reply": "2021-01-11T17:10:45.543852Z"
    },
    "id": "U8hHwK6L9I_d",
    "papermill": {
     "duration": 0.059092,
     "end_time": "2021-01-11T17:10:45.543971",
     "exception": false,
     "start_time": "2021-01-11T17:10:45.484879",
     "status": "completed"
    },
    "tags": []
   },
   "outputs": [],
   "source": [
    "X = np.array([10, 20, 30, 45, 65, 67, 64, 3, 56, 74, 29])"
   ]
  },
  {
   "cell_type": "code",
   "execution_count": 47,
   "metadata": {
    "colab": {
     "base_uri": "https://localhost:8080/"
    },
    "execution": {
     "iopub.execute_input": "2021-01-11T17:10:45.651025Z",
     "iopub.status.busy": "2021-01-11T17:10:45.650476Z",
     "iopub.status.idle": "2021-01-11T17:10:45.655499Z",
     "shell.execute_reply": "2021-01-11T17:10:45.655976Z"
    },
    "id": "JIX-Ixpp9I_e",
    "outputId": "6d44684f-49b3-4d42-8dbb-c0d663af0aaf",
    "papermill": {
     "duration": 0.060744,
     "end_time": "2021-01-11T17:10:45.656093",
     "exception": false,
     "start_time": "2021-01-11T17:10:45.595349",
     "status": "completed"
    },
    "tags": []
   },
   "outputs": [
    {
     "data": {
      "text/plain": [
       "[45, 65, 29]"
      ]
     },
     "execution_count": 47,
     "metadata": {},
     "output_type": "execute_result"
    }
   ],
   "source": [
    "[X[3], X[4], X[10]] # grab the elements in X at positions 3, 4 and 10"
   ]
  },
  {
   "cell_type": "code",
   "execution_count": 48,
   "metadata": {
    "colab": {
     "base_uri": "https://localhost:8080/"
    },
    "execution": {
     "iopub.execute_input": "2021-01-11T17:10:45.762912Z",
     "iopub.status.busy": "2021-01-11T17:10:45.762387Z",
     "iopub.status.idle": "2021-01-11T17:10:45.766943Z",
     "shell.execute_reply": "2021-01-11T17:10:45.767577Z"
    },
    "id": "rYv_kc7g9I_e",
    "outputId": "defac317-c44e-4922-9ddf-4c99a6b67a09",
    "papermill": {
     "duration": 0.059084,
     "end_time": "2021-01-11T17:10:45.767706",
     "exception": false,
     "start_time": "2021-01-11T17:10:45.708622",
     "status": "completed"
    },
    "tags": []
   },
   "outputs": [
    {
     "data": {
      "text/plain": [
       "array([45, 65, 29])"
      ]
     },
     "execution_count": 48,
     "metadata": {},
     "output_type": "execute_result"
    }
   ],
   "source": [
    "j = [3, 4, 10] # another way to do the above operation\n",
    "X[j]"
   ]
  },
  {
   "cell_type": "code",
   "execution_count": 49,
   "metadata": {
    "colab": {
     "base_uri": "https://localhost:8080/"
    },
    "execution": {
     "iopub.execute_input": "2021-01-11T17:10:45.874980Z",
     "iopub.status.busy": "2021-01-11T17:10:45.874464Z",
     "iopub.status.idle": "2021-01-11T17:10:45.879346Z",
     "shell.execute_reply": "2021-01-11T17:10:45.879829Z"
    },
    "id": "_asktcLq9I_e",
    "outputId": "8dc265c6-52af-4e36-8a1f-e73f9b62abff",
    "papermill": {
     "duration": 0.059249,
     "end_time": "2021-01-11T17:10:45.879938",
     "exception": false,
     "start_time": "2021-01-11T17:10:45.820689",
     "status": "completed"
    },
    "tags": []
   },
   "outputs": [
    {
     "data": {
      "text/plain": [
       "array([[ 0,  1,  2,  3,  4],\n",
       "       [ 5,  6,  7,  8,  9],\n",
       "       [10, 11, 12, 13, 14],\n",
       "       [15, 16, 17, 18, 19],\n",
       "       [20, 21, 22, 23, 24]])"
      ]
     },
     "execution_count": 49,
     "metadata": {},
     "output_type": "execute_result"
    }
   ],
   "source": [
    "y1 = np.arange(25).reshape((5, 5))\n",
    "y1"
   ]
  },
  {
   "cell_type": "code",
   "execution_count": 50,
   "metadata": {
    "colab": {
     "base_uri": "https://localhost:8080/"
    },
    "execution": {
     "iopub.execute_input": "2021-01-11T17:10:45.991013Z",
     "iopub.status.busy": "2021-01-11T17:10:45.990473Z",
     "iopub.status.idle": "2021-01-11T17:10:45.996108Z",
     "shell.execute_reply": "2021-01-11T17:10:45.996637Z"
    },
    "id": "51JSPYw09I_e",
    "outputId": "df2d4501-e55d-4587-b039-4026d8e84760",
    "papermill": {
     "duration": 0.06344,
     "end_time": "2021-01-11T17:10:45.996761",
     "exception": false,
     "start_time": "2021-01-11T17:10:45.933321",
     "status": "completed"
    },
    "tags": []
   },
   "outputs": [
    {
     "data": {
      "text/plain": [
       "array([ 2,  6, 13])"
      ]
     },
     "execution_count": 50,
     "metadata": {},
     "output_type": "execute_result"
    }
   ],
   "source": [
    "row = np.array([0, 1, 2])\n",
    "col = np.array([2, 1, 3])\n",
    "y1[row, col]"
   ]
  },
  {
   "cell_type": "markdown",
   "metadata": {
    "id": "VvDS20Cw9I_f",
    "papermill": {
     "duration": 0.053458,
     "end_time": "2021-01-11T17:10:46.105398",
     "exception": false,
     "start_time": "2021-01-11T17:10:46.051940",
     "status": "completed"
    },
    "tags": []
   },
   "source": [
    "In this we defined a 5x5 matrix and we defined the row and the column variables in order to perform fancy indexing. \n",
    "\n",
    "We can also use fancy indexing to manipulate the values in our array."
   ]
  },
  {
   "cell_type": "code",
   "execution_count": 51,
   "metadata": {
    "colab": {
     "base_uri": "https://localhost:8080/"
    },
    "execution": {
     "iopub.execute_input": "2021-01-11T17:10:46.218402Z",
     "iopub.status.busy": "2021-01-11T17:10:46.217778Z",
     "iopub.status.idle": "2021-01-11T17:10:46.223902Z",
     "shell.execute_reply": "2021-01-11T17:10:46.224691Z"
    },
    "id": "sg4cX9kL9I_f",
    "outputId": "ecfc44b2-d631-426b-f4f1-f7d2a901fbe1",
    "papermill": {
     "duration": 0.064276,
     "end_time": "2021-01-11T17:10:46.224847",
     "exception": false,
     "start_time": "2021-01-11T17:10:46.160571",
     "status": "completed"
    },
    "tags": []
   },
   "outputs": [
    {
     "name": "stdout",
     "output_type": "stream",
     "text": [
      "[  0   1   2 100 100   5   6 100   8 100  10  11  12  13  14  15  16  17\n",
      "  18  19]\n"
     ]
    }
   ],
   "source": [
    "x = np.arange(20)\n",
    "i = np.array([3, 4, 7, 9])\n",
    "x[i] = 100\n",
    "print(x)"
   ]
  },
  {
   "cell_type": "markdown",
   "metadata": {
    "id": "viP50EQt9I_f",
    "papermill": {
     "duration": 0.053644,
     "end_time": "2021-01-11T17:10:46.333160",
     "exception": false,
     "start_time": "2021-01-11T17:10:46.279516",
     "status": "completed"
    },
    "tags": []
   },
   "source": [
    "Next let's take a look at sorting using NumPy."
   ]
  },
  {
   "cell_type": "code",
   "execution_count": 52,
   "metadata": {
    "colab": {
     "base_uri": "https://localhost:8080/"
    },
    "execution": {
     "iopub.execute_input": "2021-01-11T17:10:46.446238Z",
     "iopub.status.busy": "2021-01-11T17:10:46.445276Z",
     "iopub.status.idle": "2021-01-11T17:10:46.452699Z",
     "shell.execute_reply": "2021-01-11T17:10:46.453224Z"
    },
    "id": "px7SSsch9I_f",
    "outputId": "aecfa56a-dd20-4466-d31d-aa4d1bb69b77",
    "papermill": {
     "duration": 0.06634,
     "end_time": "2021-01-11T17:10:46.453364",
     "exception": false,
     "start_time": "2021-01-11T17:10:46.387024",
     "status": "completed"
    },
    "tags": []
   },
   "outputs": [
    {
     "data": {
      "text/plain": [
       "array([ 1,  4,  5,  5,  6,  7,  8, 32])"
      ]
     },
     "execution_count": 52,
     "metadata": {},
     "output_type": "execute_result"
    }
   ],
   "source": [
    "x = np.array([4, 5, 6, 32, 5, 7, 8, 1])\n",
    "np.sort(x)"
   ]
  },
  {
   "cell_type": "markdown",
   "metadata": {
    "id": "gS1_p0EL9I_g",
    "papermill": {
     "duration": 0.054797,
     "end_time": "2021-01-11T17:10:46.562716",
     "exception": false,
     "start_time": "2021-01-11T17:10:46.507919",
     "status": "completed"
    },
    "tags": []
   },
   "source": [
    "Here we returned elements but we can use argsort in order to return the indices of the sorted elements."
   ]
  },
  {
   "cell_type": "code",
   "execution_count": 53,
   "metadata": {
    "colab": {
     "base_uri": "https://localhost:8080/"
    },
    "execution": {
     "iopub.execute_input": "2021-01-11T17:10:46.676528Z",
     "iopub.status.busy": "2021-01-11T17:10:46.675692Z",
     "iopub.status.idle": "2021-01-11T17:10:46.680623Z",
     "shell.execute_reply": "2021-01-11T17:10:46.681063Z"
    },
    "id": "wTykVPeJ9I_g",
    "outputId": "230121dd-7f8d-4f5b-a869-1a513577dcdb",
    "papermill": {
     "duration": 0.062826,
     "end_time": "2021-01-11T17:10:46.681196",
     "exception": false,
     "start_time": "2021-01-11T17:10:46.618370",
     "status": "completed"
    },
    "tags": []
   },
   "outputs": [
    {
     "data": {
      "text/plain": [
       "array([7, 0, 1, 4, 2, 5, 6, 3], dtype=int64)"
      ]
     },
     "execution_count": 53,
     "metadata": {},
     "output_type": "execute_result"
    }
   ],
   "source": [
    "np.argsort(x)"
   ]
  },
  {
   "cell_type": "markdown",
   "metadata": {
    "id": "atNdgv0K9I_g",
    "papermill": {
     "duration": 0.056364,
     "end_time": "2021-01-11T17:10:46.792233",
     "exception": false,
     "start_time": "2021-01-11T17:10:46.735869",
     "status": "completed"
    },
    "tags": []
   },
   "source": [
    "We can also do row and column wise sorting in a matrix."
   ]
  },
  {
   "cell_type": "code",
   "execution_count": 54,
   "metadata": {
    "colab": {
     "base_uri": "https://localhost:8080/"
    },
    "execution": {
     "iopub.execute_input": "2021-01-11T17:10:46.908154Z",
     "iopub.status.busy": "2021-01-11T17:10:46.907152Z",
     "iopub.status.idle": "2021-01-11T17:10:46.913307Z",
     "shell.execute_reply": "2021-01-11T17:10:46.914022Z"
    },
    "id": "Ykx8bow79I_g",
    "outputId": "3f0b3fad-a439-4947-a5ac-188193690c3c",
    "papermill": {
     "duration": 0.065449,
     "end_time": "2021-01-11T17:10:46.914197",
     "exception": false,
     "start_time": "2021-01-11T17:10:46.848748",
     "status": "completed"
    },
    "tags": []
   },
   "outputs": [
    {
     "name": "stdout",
     "output_type": "stream",
     "text": [
      "[[ 3  4  8 10  1]\n",
      " [ 1 12 20 17  9]\n",
      " [ 8  3 12 10 23]\n",
      " [24 23 24 15 22]\n",
      " [23 24  1 20 16]]\n"
     ]
    }
   ],
   "source": [
    "x = np.random.randint(0, 25, (5, 5))\n",
    "print(x)"
   ]
  },
  {
   "cell_type": "code",
   "execution_count": 55,
   "metadata": {
    "colab": {
     "base_uri": "https://localhost:8080/"
    },
    "execution": {
     "iopub.execute_input": "2021-01-11T17:10:47.033715Z",
     "iopub.status.busy": "2021-01-11T17:10:47.033014Z",
     "iopub.status.idle": "2021-01-11T17:10:47.036498Z",
     "shell.execute_reply": "2021-01-11T17:10:47.036068Z"
    },
    "id": "EK0pGZYo9I_g",
    "outputId": "bdff4519-9bed-400c-f2fd-77518efcf4e3",
    "papermill": {
     "duration": 0.064001,
     "end_time": "2021-01-11T17:10:47.036592",
     "exception": false,
     "start_time": "2021-01-11T17:10:46.972591",
     "status": "completed"
    },
    "tags": []
   },
   "outputs": [
    {
     "data": {
      "text/plain": [
       "array([[ 1,  3,  1, 10,  1],\n",
       "       [ 3,  4,  8, 10,  9],\n",
       "       [ 8, 12, 12, 15, 16],\n",
       "       [23, 23, 20, 17, 22],\n",
       "       [24, 24, 24, 20, 23]])"
      ]
     },
     "execution_count": 55,
     "metadata": {},
     "output_type": "execute_result"
    }
   ],
   "source": [
    "np.sort(x, axis=0) # sorting all elements of the column"
   ]
  },
  {
   "cell_type": "code",
   "execution_count": 56,
   "metadata": {
    "colab": {
     "base_uri": "https://localhost:8080/"
    },
    "execution": {
     "iopub.execute_input": "2021-01-11T17:10:47.156489Z",
     "iopub.status.busy": "2021-01-11T17:10:47.155702Z",
     "iopub.status.idle": "2021-01-11T17:10:47.159262Z",
     "shell.execute_reply": "2021-01-11T17:10:47.158737Z"
    },
    "id": "W82W_YJ79I_g",
    "outputId": "5b55d6cf-39eb-44d5-9590-4f60450f86c2",
    "papermill": {
     "duration": 0.065025,
     "end_time": "2021-01-11T17:10:47.159362",
     "exception": false,
     "start_time": "2021-01-11T17:10:47.094337",
     "status": "completed"
    },
    "tags": []
   },
   "outputs": [
    {
     "data": {
      "text/plain": [
       "array([[ 1,  3,  4,  8, 10],\n",
       "       [ 1,  9, 12, 17, 20],\n",
       "       [ 3,  8, 10, 12, 23],\n",
       "       [15, 22, 23, 24, 24],\n",
       "       [ 1, 16, 20, 23, 24]])"
      ]
     },
     "execution_count": 56,
     "metadata": {},
     "output_type": "execute_result"
    }
   ],
   "source": [
    "np.sort(x, axis=1) # sorting all elements of the row"
   ]
  },
  {
   "cell_type": "markdown",
   "metadata": {
    "id": "DTtRa9pB9I_g"
   },
   "source": [
    "### EXERCISE: Sort all elements of matrix m1 firstly column wise then row wise"
   ]
  },
  {
   "cell_type": "code",
   "execution_count": 57,
   "metadata": {
    "colab": {
     "base_uri": "https://localhost:8080/"
    },
    "id": "Xc3sNBgu9I_h",
    "outputId": "216fc609-0c99-4e0b-9837-528286c175fa"
   },
   "outputs": [
    {
     "data": {
      "text/plain": [
       "array([[17, 72, 49, 20, 45],\n",
       "       [85, 85, 64, 87, 54],\n",
       "       [45,  0, 61, 35, 19],\n",
       "       [33, 82, 40, 19, 98],\n",
       "       [53, 30, 77, 64, 38],\n",
       "       [60, 20, 11, 57, 81],\n",
       "       [36, 92, 12, 96,  0]])"
      ]
     },
     "execution_count": 57,
     "metadata": {},
     "output_type": "execute_result"
    }
   ],
   "source": [
    "m1 = np.random.randint(0, 100, (7,5))\n",
    "m1"
   ]
  },
  {
   "cell_type": "code",
   "execution_count": 58,
   "metadata": {
    "colab": {
     "base_uri": "https://localhost:8080/"
    },
    "id": "wVG0pOob_EJp",
    "outputId": "8cb39935-ef8e-4b17-9c73-a6d6b2c442f2"
   },
   "outputs": [
    {
     "data": {
      "text/plain": [
       "array([[ 0,  0, 11, 17, 19],\n",
       "       [12, 19, 20, 20, 33],\n",
       "       [30, 35, 36, 38, 40],\n",
       "       [45, 45, 49, 57, 72],\n",
       "       [53, 54, 61, 64, 82],\n",
       "       [60, 64, 81, 85, 87],\n",
       "       [77, 85, 92, 96, 98]])"
      ]
     },
     "execution_count": 58,
     "metadata": {},
     "output_type": "execute_result"
    }
   ],
   "source": [
    "# enter code here\n",
    "temp = np.sort(m1, axis=0)\n",
    "np.sort(temp, axis=1)\n",
    "#sorted m1 column-wise then sorted that column-wise sorted matrix row-wise. "
   ]
  },
  {
   "cell_type": "markdown",
   "metadata": {
    "id": "tCL3vO7AUfE7"
   },
   "source": []
  },
  {
   "cell_type": "markdown",
   "metadata": {
    "id": "hWf5wgRn9I_h",
    "papermill": {
     "duration": 0.057172,
     "end_time": "2021-01-11T17:10:47.274546",
     "exception": false,
     "start_time": "2021-01-11T17:10:47.217374",
     "status": "completed"
    },
    "tags": []
   },
   "source": [
    "With this we come to an end to the NumPy section! Congrats on finishing this tutorial!"
   ]
  },
  {
   "cell_type": "code",
   "execution_count": null,
   "metadata": {
    "id": "08ds6MpqUpue"
   },
   "outputs": [],
   "source": []
  }
 ],
 "metadata": {
  "accelerator": "TPU",
  "colab": {
   "name": "hands-on_numpy.ipynb",
   "provenance": []
  },
  "kernelspec": {
   "display_name": "Python 3",
   "language": "python",
   "name": "python3"
  },
  "language_info": {
   "codemirror_mode": {
    "name": "ipython",
    "version": 3
   },
   "file_extension": ".py",
   "mimetype": "text/x-python",
   "name": "python",
   "nbconvert_exporter": "python",
   "pygments_lexer": "ipython3",
   "version": "3.8.3"
  },
  "papermill": {
   "duration": 12.398307,
   "end_time": "2021-01-11T17:10:47.553394",
   "environment_variables": {},
   "exception": null,
   "input_path": "__notebook__.ipynb",
   "output_path": "__notebook__.ipynb",
   "parameters": {},
   "start_time": "2021-01-11T17:10:35.155087",
   "version": "2.1.0"
  }
 },
 "nbformat": 4,
 "nbformat_minor": 1
}
